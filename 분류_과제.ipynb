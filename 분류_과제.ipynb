{
  "nbformat": 4,
  "nbformat_minor": 0,
  "metadata": {
    "colab": {
      "provenance": [],
      "authorship_tag": "ABX9TyP3qEtywco7Jxc8Oktv0q2v",
      "include_colab_link": true
    },
    "kernelspec": {
      "name": "python3",
      "display_name": "Python 3"
    },
    "language_info": {
      "name": "python"
    }
  },
  "cells": [
    {
      "cell_type": "markdown",
      "metadata": {
        "id": "view-in-github",
        "colab_type": "text"
      },
      "source": [
        "<a href=\"https://colab.research.google.com/github/eeeewn/IBM2022/blob/main/%EB%B6%84%EB%A5%98_%EA%B3%BC%EC%A0%9C.ipynb\" target=\"_parent\"><img src=\"https://colab.research.google.com/assets/colab-badge.svg\" alt=\"Open In Colab\"/></a>"
      ]
    },
    {
      "cell_type": "code",
      "execution_count": 107,
      "metadata": {
        "colab": {
          "base_uri": "https://localhost:8080/"
        },
        "id": "l7ChbEdBFO5f",
        "outputId": "8acd4591-4345-4ccb-f1a3-23c6fc12af04"
      },
      "outputs": [
        {
          "output_type": "stream",
          "name": "stdout",
          "text": [
            "Looking in indexes: https://pypi.org/simple, https://us-python.pkg.dev/colab-wheels/public/simple/\n",
            "Requirement already satisfied: mglearn in /usr/local/lib/python3.7/dist-packages (0.1.9)\n",
            "Requirement already satisfied: joblib in /usr/local/lib/python3.7/dist-packages (from mglearn) (1.1.0)\n",
            "Requirement already satisfied: scikit-learn in /usr/local/lib/python3.7/dist-packages (from mglearn) (1.0.2)\n",
            "Requirement already satisfied: pandas in /usr/local/lib/python3.7/dist-packages (from mglearn) (1.3.5)\n",
            "Requirement already satisfied: pillow in /usr/local/lib/python3.7/dist-packages (from mglearn) (7.1.2)\n",
            "Requirement already satisfied: cycler in /usr/local/lib/python3.7/dist-packages (from mglearn) (0.11.0)\n",
            "Requirement already satisfied: imageio in /usr/local/lib/python3.7/dist-packages (from mglearn) (2.9.0)\n",
            "Requirement already satisfied: matplotlib in /usr/local/lib/python3.7/dist-packages (from mglearn) (3.2.2)\n",
            "Requirement already satisfied: numpy in /usr/local/lib/python3.7/dist-packages (from mglearn) (1.21.6)\n",
            "Requirement already satisfied: pyparsing!=2.0.4,!=2.1.2,!=2.1.6,>=2.0.1 in /usr/local/lib/python3.7/dist-packages (from matplotlib->mglearn) (3.0.9)\n",
            "Requirement already satisfied: python-dateutil>=2.1 in /usr/local/lib/python3.7/dist-packages (from matplotlib->mglearn) (2.8.2)\n",
            "Requirement already satisfied: kiwisolver>=1.0.1 in /usr/local/lib/python3.7/dist-packages (from matplotlib->mglearn) (1.4.4)\n",
            "Requirement already satisfied: typing-extensions in /usr/local/lib/python3.7/dist-packages (from kiwisolver>=1.0.1->matplotlib->mglearn) (4.1.1)\n",
            "Requirement already satisfied: six>=1.5 in /usr/local/lib/python3.7/dist-packages (from python-dateutil>=2.1->matplotlib->mglearn) (1.15.0)\n",
            "Requirement already satisfied: pytz>=2017.3 in /usr/local/lib/python3.7/dist-packages (from pandas->mglearn) (2022.6)\n",
            "Requirement already satisfied: scipy>=1.1.0 in /usr/local/lib/python3.7/dist-packages (from scikit-learn->mglearn) (1.7.3)\n",
            "Requirement already satisfied: threadpoolctl>=2.0.0 in /usr/local/lib/python3.7/dist-packages (from scikit-learn->mglearn) (3.1.0)\n",
            "Looking in indexes: https://pypi.org/simple, https://us-python.pkg.dev/colab-wheels/public/simple/\n",
            "Requirement already satisfied: joblib==1.1.0 in /usr/local/lib/python3.7/dist-packages (1.1.0)\n"
          ]
        }
      ],
      "source": [
        "!pip install mglearn \n",
        "!pip install --upgrade joblib==1.1.0"
      ]
    },
    {
      "cell_type": "code",
      "source": [
        "import mglearn\n",
        "%matplotlib inline\n",
        "import pandas as pd\n",
        "import seaborn as sns\n",
        "import matplotlib.pyplot as plt"
      ],
      "metadata": {
        "id": "lK_Ed5pXFYPQ"
      },
      "execution_count": 108,
      "outputs": []
    },
    {
      "cell_type": "code",
      "source": [
        "from google.colab import drive\n",
        "drive.mount('/content/drive')\n",
        "\n",
        "health = pd.read_csv(\"/content/drive/My Drive/Colab Notebooks/ITB/health_data.csv\")"
      ],
      "metadata": {
        "colab": {
          "base_uri": "https://localhost:8080/"
        },
        "id": "HWxcMbyxFeng",
        "outputId": "e06394df-796c-4bf3-cfa0-d4f3ce125835"
      },
      "execution_count": 109,
      "outputs": [
        {
          "output_type": "stream",
          "name": "stdout",
          "text": [
            "Drive already mounted at /content/drive; to attempt to forcibly remount, call drive.mount(\"/content/drive\", force_remount=True).\n"
          ]
        }
      ]
    },
    {
      "cell_type": "code",
      "source": [
        "display(health.info())    \n",
        "display(health.head())\n",
        "health.isnull().sum() #일부 변수 결측치 많음"
      ],
      "metadata": {
        "colab": {
          "base_uri": "https://localhost:8080/",
          "height": 1000
        },
        "id": "OthVxf7-FlSk",
        "outputId": "b375fb24-441d-411f-853e-c299a77d719d"
      },
      "execution_count": 110,
      "outputs": [
        {
          "output_type": "stream",
          "name": "stdout",
          "text": [
            "<class 'pandas.core.frame.DataFrame'>\n",
            "RangeIndex: 10000 entries, 0 to 9999\n",
            "Data columns (total 31 columns):\n",
            " #   Column             Non-Null Count  Dtype  \n",
            "---  ------             --------------  -----  \n",
            " 0   HCHK_YEAR          10000 non-null  int64  \n",
            " 1   IDV_ID             10000 non-null  int64  \n",
            " 2   SIDO               10000 non-null  int64  \n",
            " 3   SEX                10000 non-null  object \n",
            " 4   AGE_GROUP          10000 non-null  int64  \n",
            " 5   HEIGHT             10000 non-null  int64  \n",
            " 6   WEIGHT             10000 non-null  int64  \n",
            " 7   WAIST              10000 non-null  float64\n",
            " 8   SIGHT_LEFT         10000 non-null  float64\n",
            " 9   SIGHT_RIGHT        10000 non-null  float64\n",
            " 10  HEAR_LEFT          10000 non-null  int64  \n",
            " 11  HEAR_RIGHT         10000 non-null  int64  \n",
            " 12  BP_HIGH            9912 non-null   float64\n",
            " 13  BP_LWST            9912 non-null   float64\n",
            " 14  BLDS               9912 non-null   float64\n",
            " 15  TOT_CHOLE          4044 non-null   float64\n",
            " 16  TRIGLYCERIDE       4044 non-null   float64\n",
            " 17  HDL_CHOLE          4044 non-null   float64\n",
            " 18  LDL_CHOLE          3977 non-null   float64\n",
            " 19  HMG                9912 non-null   float64\n",
            " 20  OLIG_PROTE_CD      9861 non-null   float64\n",
            " 21  CREATININE         9912 non-null   float64\n",
            " 22  SGOT_AST           9912 non-null   float64\n",
            " 23  SGPT_ALT           9912 non-null   float64\n",
            " 24  GAMMA_GTP          9912 non-null   float64\n",
            " 25  SMK_STAT_TYPE_CD   9998 non-null   object \n",
            " 26  DRK_YN             9999 non-null   object \n",
            " 27  HCHK_OE_INSPEC_YN  10000 non-null  int64  \n",
            " 28  CRS_YN             3251 non-null   float64\n",
            " 29  TTR_YN             3251 non-null   float64\n",
            " 30  DATA_STD__DT       10000 non-null  object \n",
            "dtypes: float64(18), int64(9), object(4)\n",
            "memory usage: 2.4+ MB\n"
          ]
        },
        {
          "output_type": "display_data",
          "data": {
            "text/plain": [
              "None"
            ]
          },
          "metadata": {}
        },
        {
          "output_type": "display_data",
          "data": {
            "text/plain": [
              "   HCHK_YEAR  IDV_ID  SIDO SEX  AGE_GROUP  HEIGHT  WEIGHT  WAIST  SIGHT_LEFT  \\\n",
              "0       2020       1    36   M          9     165      60   72.1         1.2   \n",
              "1       2020       2    27   F         13     150      65   81.0         0.8   \n",
              "2       2020       3    11   F         12     155      55   70.0         0.6   \n",
              "3       2020       4    31   M         13     160      70   90.8         1.0   \n",
              "4       2020       5    41   F         12     155      50   75.2         1.5   \n",
              "\n",
              "   SIGHT_RIGHT  ...  CREATININE  SGOT_AST  SGPT_ALT  GAMMA_GTP  \\\n",
              "0          1.5  ...         1.1      21.0      27.0       21.0   \n",
              "1          0.8  ...         0.5      18.0      15.0       15.0   \n",
              "2          0.7  ...         0.7      27.0      25.0        7.0   \n",
              "3          1.0  ...         1.2      65.0      97.0       72.0   \n",
              "4          1.2  ...         0.7      18.0      17.0       14.0   \n",
              "\n",
              "   SMK_STAT_TYPE_CD  DRK_YN  HCHK_OE_INSPEC_YN  CRS_YN  TTR_YN  DATA_STD__DT  \n",
              "0                No      No                  0     NaN     NaN    12/29/2021  \n",
              "1                No      No                  0     NaN     NaN    12/29/2021  \n",
              "2                No      No                  0     NaN     NaN    12/29/2021  \n",
              "3                No      No                  1     0.0     0.0    12/29/2021  \n",
              "4                No      No                  0     NaN     NaN    12/29/2021  \n",
              "\n",
              "[5 rows x 31 columns]"
            ],
            "text/html": [
              "\n",
              "  <div id=\"df-6f6f4194-8af6-4d4d-96e0-674a49aa5937\">\n",
              "    <div class=\"colab-df-container\">\n",
              "      <div>\n",
              "<style scoped>\n",
              "    .dataframe tbody tr th:only-of-type {\n",
              "        vertical-align: middle;\n",
              "    }\n",
              "\n",
              "    .dataframe tbody tr th {\n",
              "        vertical-align: top;\n",
              "    }\n",
              "\n",
              "    .dataframe thead th {\n",
              "        text-align: right;\n",
              "    }\n",
              "</style>\n",
              "<table border=\"1\" class=\"dataframe\">\n",
              "  <thead>\n",
              "    <tr style=\"text-align: right;\">\n",
              "      <th></th>\n",
              "      <th>HCHK_YEAR</th>\n",
              "      <th>IDV_ID</th>\n",
              "      <th>SIDO</th>\n",
              "      <th>SEX</th>\n",
              "      <th>AGE_GROUP</th>\n",
              "      <th>HEIGHT</th>\n",
              "      <th>WEIGHT</th>\n",
              "      <th>WAIST</th>\n",
              "      <th>SIGHT_LEFT</th>\n",
              "      <th>SIGHT_RIGHT</th>\n",
              "      <th>...</th>\n",
              "      <th>CREATININE</th>\n",
              "      <th>SGOT_AST</th>\n",
              "      <th>SGPT_ALT</th>\n",
              "      <th>GAMMA_GTP</th>\n",
              "      <th>SMK_STAT_TYPE_CD</th>\n",
              "      <th>DRK_YN</th>\n",
              "      <th>HCHK_OE_INSPEC_YN</th>\n",
              "      <th>CRS_YN</th>\n",
              "      <th>TTR_YN</th>\n",
              "      <th>DATA_STD__DT</th>\n",
              "    </tr>\n",
              "  </thead>\n",
              "  <tbody>\n",
              "    <tr>\n",
              "      <th>0</th>\n",
              "      <td>2020</td>\n",
              "      <td>1</td>\n",
              "      <td>36</td>\n",
              "      <td>M</td>\n",
              "      <td>9</td>\n",
              "      <td>165</td>\n",
              "      <td>60</td>\n",
              "      <td>72.1</td>\n",
              "      <td>1.2</td>\n",
              "      <td>1.5</td>\n",
              "      <td>...</td>\n",
              "      <td>1.1</td>\n",
              "      <td>21.0</td>\n",
              "      <td>27.0</td>\n",
              "      <td>21.0</td>\n",
              "      <td>No</td>\n",
              "      <td>No</td>\n",
              "      <td>0</td>\n",
              "      <td>NaN</td>\n",
              "      <td>NaN</td>\n",
              "      <td>12/29/2021</td>\n",
              "    </tr>\n",
              "    <tr>\n",
              "      <th>1</th>\n",
              "      <td>2020</td>\n",
              "      <td>2</td>\n",
              "      <td>27</td>\n",
              "      <td>F</td>\n",
              "      <td>13</td>\n",
              "      <td>150</td>\n",
              "      <td>65</td>\n",
              "      <td>81.0</td>\n",
              "      <td>0.8</td>\n",
              "      <td>0.8</td>\n",
              "      <td>...</td>\n",
              "      <td>0.5</td>\n",
              "      <td>18.0</td>\n",
              "      <td>15.0</td>\n",
              "      <td>15.0</td>\n",
              "      <td>No</td>\n",
              "      <td>No</td>\n",
              "      <td>0</td>\n",
              "      <td>NaN</td>\n",
              "      <td>NaN</td>\n",
              "      <td>12/29/2021</td>\n",
              "    </tr>\n",
              "    <tr>\n",
              "      <th>2</th>\n",
              "      <td>2020</td>\n",
              "      <td>3</td>\n",
              "      <td>11</td>\n",
              "      <td>F</td>\n",
              "      <td>12</td>\n",
              "      <td>155</td>\n",
              "      <td>55</td>\n",
              "      <td>70.0</td>\n",
              "      <td>0.6</td>\n",
              "      <td>0.7</td>\n",
              "      <td>...</td>\n",
              "      <td>0.7</td>\n",
              "      <td>27.0</td>\n",
              "      <td>25.0</td>\n",
              "      <td>7.0</td>\n",
              "      <td>No</td>\n",
              "      <td>No</td>\n",
              "      <td>0</td>\n",
              "      <td>NaN</td>\n",
              "      <td>NaN</td>\n",
              "      <td>12/29/2021</td>\n",
              "    </tr>\n",
              "    <tr>\n",
              "      <th>3</th>\n",
              "      <td>2020</td>\n",
              "      <td>4</td>\n",
              "      <td>31</td>\n",
              "      <td>M</td>\n",
              "      <td>13</td>\n",
              "      <td>160</td>\n",
              "      <td>70</td>\n",
              "      <td>90.8</td>\n",
              "      <td>1.0</td>\n",
              "      <td>1.0</td>\n",
              "      <td>...</td>\n",
              "      <td>1.2</td>\n",
              "      <td>65.0</td>\n",
              "      <td>97.0</td>\n",
              "      <td>72.0</td>\n",
              "      <td>No</td>\n",
              "      <td>No</td>\n",
              "      <td>1</td>\n",
              "      <td>0.0</td>\n",
              "      <td>0.0</td>\n",
              "      <td>12/29/2021</td>\n",
              "    </tr>\n",
              "    <tr>\n",
              "      <th>4</th>\n",
              "      <td>2020</td>\n",
              "      <td>5</td>\n",
              "      <td>41</td>\n",
              "      <td>F</td>\n",
              "      <td>12</td>\n",
              "      <td>155</td>\n",
              "      <td>50</td>\n",
              "      <td>75.2</td>\n",
              "      <td>1.5</td>\n",
              "      <td>1.2</td>\n",
              "      <td>...</td>\n",
              "      <td>0.7</td>\n",
              "      <td>18.0</td>\n",
              "      <td>17.0</td>\n",
              "      <td>14.0</td>\n",
              "      <td>No</td>\n",
              "      <td>No</td>\n",
              "      <td>0</td>\n",
              "      <td>NaN</td>\n",
              "      <td>NaN</td>\n",
              "      <td>12/29/2021</td>\n",
              "    </tr>\n",
              "  </tbody>\n",
              "</table>\n",
              "<p>5 rows × 31 columns</p>\n",
              "</div>\n",
              "      <button class=\"colab-df-convert\" onclick=\"convertToInteractive('df-6f6f4194-8af6-4d4d-96e0-674a49aa5937')\"\n",
              "              title=\"Convert this dataframe to an interactive table.\"\n",
              "              style=\"display:none;\">\n",
              "        \n",
              "  <svg xmlns=\"http://www.w3.org/2000/svg\" height=\"24px\"viewBox=\"0 0 24 24\"\n",
              "       width=\"24px\">\n",
              "    <path d=\"M0 0h24v24H0V0z\" fill=\"none\"/>\n",
              "    <path d=\"M18.56 5.44l.94 2.06.94-2.06 2.06-.94-2.06-.94-.94-2.06-.94 2.06-2.06.94zm-11 1L8.5 8.5l.94-2.06 2.06-.94-2.06-.94L8.5 2.5l-.94 2.06-2.06.94zm10 10l.94 2.06.94-2.06 2.06-.94-2.06-.94-.94-2.06-.94 2.06-2.06.94z\"/><path d=\"M17.41 7.96l-1.37-1.37c-.4-.4-.92-.59-1.43-.59-.52 0-1.04.2-1.43.59L10.3 9.45l-7.72 7.72c-.78.78-.78 2.05 0 2.83L4 21.41c.39.39.9.59 1.41.59.51 0 1.02-.2 1.41-.59l7.78-7.78 2.81-2.81c.8-.78.8-2.07 0-2.86zM5.41 20L4 18.59l7.72-7.72 1.47 1.35L5.41 20z\"/>\n",
              "  </svg>\n",
              "      </button>\n",
              "      \n",
              "  <style>\n",
              "    .colab-df-container {\n",
              "      display:flex;\n",
              "      flex-wrap:wrap;\n",
              "      gap: 12px;\n",
              "    }\n",
              "\n",
              "    .colab-df-convert {\n",
              "      background-color: #E8F0FE;\n",
              "      border: none;\n",
              "      border-radius: 50%;\n",
              "      cursor: pointer;\n",
              "      display: none;\n",
              "      fill: #1967D2;\n",
              "      height: 32px;\n",
              "      padding: 0 0 0 0;\n",
              "      width: 32px;\n",
              "    }\n",
              "\n",
              "    .colab-df-convert:hover {\n",
              "      background-color: #E2EBFA;\n",
              "      box-shadow: 0px 1px 2px rgba(60, 64, 67, 0.3), 0px 1px 3px 1px rgba(60, 64, 67, 0.15);\n",
              "      fill: #174EA6;\n",
              "    }\n",
              "\n",
              "    [theme=dark] .colab-df-convert {\n",
              "      background-color: #3B4455;\n",
              "      fill: #D2E3FC;\n",
              "    }\n",
              "\n",
              "    [theme=dark] .colab-df-convert:hover {\n",
              "      background-color: #434B5C;\n",
              "      box-shadow: 0px 1px 3px 1px rgba(0, 0, 0, 0.15);\n",
              "      filter: drop-shadow(0px 1px 2px rgba(0, 0, 0, 0.3));\n",
              "      fill: #FFFFFF;\n",
              "    }\n",
              "  </style>\n",
              "\n",
              "      <script>\n",
              "        const buttonEl =\n",
              "          document.querySelector('#df-6f6f4194-8af6-4d4d-96e0-674a49aa5937 button.colab-df-convert');\n",
              "        buttonEl.style.display =\n",
              "          google.colab.kernel.accessAllowed ? 'block' : 'none';\n",
              "\n",
              "        async function convertToInteractive(key) {\n",
              "          const element = document.querySelector('#df-6f6f4194-8af6-4d4d-96e0-674a49aa5937');\n",
              "          const dataTable =\n",
              "            await google.colab.kernel.invokeFunction('convertToInteractive',\n",
              "                                                     [key], {});\n",
              "          if (!dataTable) return;\n",
              "\n",
              "          const docLinkHtml = 'Like what you see? Visit the ' +\n",
              "            '<a target=\"_blank\" href=https://colab.research.google.com/notebooks/data_table.ipynb>data table notebook</a>'\n",
              "            + ' to learn more about interactive tables.';\n",
              "          element.innerHTML = '';\n",
              "          dataTable['output_type'] = 'display_data';\n",
              "          await google.colab.output.renderOutput(dataTable, element);\n",
              "          const docLink = document.createElement('div');\n",
              "          docLink.innerHTML = docLinkHtml;\n",
              "          element.appendChild(docLink);\n",
              "        }\n",
              "      </script>\n",
              "    </div>\n",
              "  </div>\n",
              "  "
            ]
          },
          "metadata": {}
        },
        {
          "output_type": "execute_result",
          "data": {
            "text/plain": [
              "HCHK_YEAR               0\n",
              "IDV_ID                  0\n",
              "SIDO                    0\n",
              "SEX                     0\n",
              "AGE_GROUP               0\n",
              "HEIGHT                  0\n",
              "WEIGHT                  0\n",
              "WAIST                   0\n",
              "SIGHT_LEFT              0\n",
              "SIGHT_RIGHT             0\n",
              "HEAR_LEFT               0\n",
              "HEAR_RIGHT              0\n",
              "BP_HIGH                88\n",
              "BP_LWST                88\n",
              "BLDS                   88\n",
              "TOT_CHOLE            5956\n",
              "TRIGLYCERIDE         5956\n",
              "HDL_CHOLE            5956\n",
              "LDL_CHOLE            6023\n",
              "HMG                    88\n",
              "OLIG_PROTE_CD         139\n",
              "CREATININE             88\n",
              "SGOT_AST               88\n",
              "SGPT_ALT               88\n",
              "GAMMA_GTP              88\n",
              "SMK_STAT_TYPE_CD        2\n",
              "DRK_YN                  1\n",
              "HCHK_OE_INSPEC_YN       0\n",
              "CRS_YN               6749\n",
              "TTR_YN               6749\n",
              "DATA_STD__DT            0\n",
              "dtype: int64"
            ]
          },
          "metadata": {},
          "execution_count": 110
        }
      ]
    },
    {
      "cell_type": "code",
      "source": [
        "#결측치 제거\n",
        "health = health.dropna()"
      ],
      "metadata": {
        "id": "eN2k8lYCFwF3"
      },
      "execution_count": 111,
      "outputs": []
    },
    {
      "cell_type": "code",
      "source": [
        "#불필요한 변수 제거\n",
        "health = health.drop(['DATA_STD__DT', 'IDV_ID', 'HCHK_YEAR'], axis=1)"
      ],
      "metadata": {
        "id": "sWD4jK0ZFo67"
      },
      "execution_count": 112,
      "outputs": []
    },
    {
      "cell_type": "code",
      "source": [
        "#비만 여부 판단하기 위한 파생변수 만들기\n",
        "health['BMI'] = health['WEIGHT']/((health['HEIGHT']/100)**2)\n",
        "\n",
        "import numpy as np\n",
        "health['obesity'] = np.where(health['BMI'] >=25 , 'Y', 'N') #BMI 25이상인 경우 비만으로 판단"
      ],
      "metadata": {
        "id": "YTZjQKi-FtOf"
      },
      "execution_count": 113,
      "outputs": []
    },
    {
      "cell_type": "code",
      "source": [
        "#공복 혈당을 이용한 당뇨 여부 파생변수 생성\n",
        "health['disbetes'] = np.where(health['BLDS']>=126 , 'Y', 'N') "
      ],
      "metadata": {
        "id": "YUkTKby0PbML"
      },
      "execution_count": 114,
      "outputs": []
    },
    {
      "cell_type": "code",
      "source": [
        "#문자형 변수 숫자형으로 바꾸기\n",
        "health['SEX'] = health['SEX'].replace({'M':1, 'F':2})\n",
        "health['SMK_STAT_TYPE_CD'] =health['SMK_STAT_TYPE_CD'].replace({'No':0, 'NotNow':1, 'Yes':2})\n",
        "health['DRK_YN'] =health['DRK_YN'].replace({'No':0, 'Yes':2})\n",
        "health['disbetes'] =health['disbetes'].replace({'N':0, 'Y':2})"
      ],
      "metadata": {
        "id": "quCGe-6YF4CE"
      },
      "execution_count": 115,
      "outputs": []
    },
    {
      "cell_type": "code",
      "source": [
        "target = health['obesity'] \n",
        "health = health.drop(columns = ['obesity', 'BMI','HEIGHT','WEIGHT']) #비만도를 측정하기 위해 사용한 키, 체중 변수 포함시키지 않음\n",
        "health['obesity'] = target "
      ],
      "metadata": {
        "id": "jySmcs2OF5j8"
      },
      "execution_count": 116,
      "outputs": []
    },
    {
      "cell_type": "code",
      "source": [
        "health.info()\n",
        "health.head()"
      ],
      "metadata": {
        "colab": {
          "base_uri": "https://localhost:8080/",
          "height": 938
        },
        "id": "k87a91jYGDlO",
        "outputId": "7c1a4aad-8ad1-4a69-87f9-e6399d904fef"
      },
      "execution_count": 117,
      "outputs": [
        {
          "output_type": "stream",
          "name": "stdout",
          "text": [
            "<class 'pandas.core.frame.DataFrame'>\n",
            "Int64Index: 1249 entries, 6 to 9974\n",
            "Data columns (total 28 columns):\n",
            " #   Column             Non-Null Count  Dtype  \n",
            "---  ------             --------------  -----  \n",
            " 0   SIDO               1249 non-null   int64  \n",
            " 1   SEX                1249 non-null   int64  \n",
            " 2   AGE_GROUP          1249 non-null   int64  \n",
            " 3   WAIST              1249 non-null   float64\n",
            " 4   SIGHT_LEFT         1249 non-null   float64\n",
            " 5   SIGHT_RIGHT        1249 non-null   float64\n",
            " 6   HEAR_LEFT          1249 non-null   int64  \n",
            " 7   HEAR_RIGHT         1249 non-null   int64  \n",
            " 8   BP_HIGH            1249 non-null   float64\n",
            " 9   BP_LWST            1249 non-null   float64\n",
            " 10  BLDS               1249 non-null   float64\n",
            " 11  TOT_CHOLE          1249 non-null   float64\n",
            " 12  TRIGLYCERIDE       1249 non-null   float64\n",
            " 13  HDL_CHOLE          1249 non-null   float64\n",
            " 14  LDL_CHOLE          1249 non-null   float64\n",
            " 15  HMG                1249 non-null   float64\n",
            " 16  OLIG_PROTE_CD      1249 non-null   float64\n",
            " 17  CREATININE         1249 non-null   float64\n",
            " 18  SGOT_AST           1249 non-null   float64\n",
            " 19  SGPT_ALT           1249 non-null   float64\n",
            " 20  GAMMA_GTP          1249 non-null   float64\n",
            " 21  SMK_STAT_TYPE_CD   1249 non-null   int64  \n",
            " 22  DRK_YN             1249 non-null   int64  \n",
            " 23  HCHK_OE_INSPEC_YN  1249 non-null   int64  \n",
            " 24  CRS_YN             1249 non-null   float64\n",
            " 25  TTR_YN             1249 non-null   float64\n",
            " 26  disbetes           1249 non-null   int64  \n",
            " 27  obesity            1249 non-null   object \n",
            "dtypes: float64(18), int64(9), object(1)\n",
            "memory usage: 283.0+ KB\n"
          ]
        },
        {
          "output_type": "execute_result",
          "data": {
            "text/plain": [
              "    SIDO  SEX  AGE_GROUP  WAIST  SIGHT_LEFT  SIGHT_RIGHT  HEAR_LEFT  \\\n",
              "6     44    1          9   93.0         0.8          0.7          1   \n",
              "16    30    1         11   90.0         0.6          0.6          1   \n",
              "21    41    2         11   65.9         0.7          1.0          1   \n",
              "27    11    1         17   82.0         0.5          0.7          1   \n",
              "47    26    1         16   94.0         1.5          0.6          2   \n",
              "\n",
              "    HEAR_RIGHT  BP_HIGH  BP_LWST  ...  SGOT_AST  SGPT_ALT  GAMMA_GTP  \\\n",
              "6            2    112.0     73.0  ...      18.0      20.0       35.0   \n",
              "16           1    138.0     88.0  ...      29.0      54.0       24.0   \n",
              "21           1    114.0     73.0  ...      24.0      14.0       12.0   \n",
              "27           1    139.0     85.0  ...      33.0      22.0       29.0   \n",
              "47           2    110.0     72.0  ...      28.0      20.0       43.0   \n",
              "\n",
              "    SMK_STAT_TYPE_CD  DRK_YN  HCHK_OE_INSPEC_YN  CRS_YN  TTR_YN  disbetes  \\\n",
              "6                  2       2                  1     0.0     1.0         2   \n",
              "16                 0       2                  1     0.0     1.0         0   \n",
              "21                 0       0                  1     0.0     0.0         0   \n",
              "27                 0       2                  1     0.0     0.0         0   \n",
              "47                 0       2                  1     0.0     0.0         0   \n",
              "\n",
              "    obesity  \n",
              "6         Y  \n",
              "16        Y  \n",
              "21        N  \n",
              "27        N  \n",
              "47        N  \n",
              "\n",
              "[5 rows x 28 columns]"
            ],
            "text/html": [
              "\n",
              "  <div id=\"df-b98b2510-9650-4394-ba21-6dcda9c312eb\">\n",
              "    <div class=\"colab-df-container\">\n",
              "      <div>\n",
              "<style scoped>\n",
              "    .dataframe tbody tr th:only-of-type {\n",
              "        vertical-align: middle;\n",
              "    }\n",
              "\n",
              "    .dataframe tbody tr th {\n",
              "        vertical-align: top;\n",
              "    }\n",
              "\n",
              "    .dataframe thead th {\n",
              "        text-align: right;\n",
              "    }\n",
              "</style>\n",
              "<table border=\"1\" class=\"dataframe\">\n",
              "  <thead>\n",
              "    <tr style=\"text-align: right;\">\n",
              "      <th></th>\n",
              "      <th>SIDO</th>\n",
              "      <th>SEX</th>\n",
              "      <th>AGE_GROUP</th>\n",
              "      <th>WAIST</th>\n",
              "      <th>SIGHT_LEFT</th>\n",
              "      <th>SIGHT_RIGHT</th>\n",
              "      <th>HEAR_LEFT</th>\n",
              "      <th>HEAR_RIGHT</th>\n",
              "      <th>BP_HIGH</th>\n",
              "      <th>BP_LWST</th>\n",
              "      <th>...</th>\n",
              "      <th>SGOT_AST</th>\n",
              "      <th>SGPT_ALT</th>\n",
              "      <th>GAMMA_GTP</th>\n",
              "      <th>SMK_STAT_TYPE_CD</th>\n",
              "      <th>DRK_YN</th>\n",
              "      <th>HCHK_OE_INSPEC_YN</th>\n",
              "      <th>CRS_YN</th>\n",
              "      <th>TTR_YN</th>\n",
              "      <th>disbetes</th>\n",
              "      <th>obesity</th>\n",
              "    </tr>\n",
              "  </thead>\n",
              "  <tbody>\n",
              "    <tr>\n",
              "      <th>6</th>\n",
              "      <td>44</td>\n",
              "      <td>1</td>\n",
              "      <td>9</td>\n",
              "      <td>93.0</td>\n",
              "      <td>0.8</td>\n",
              "      <td>0.7</td>\n",
              "      <td>1</td>\n",
              "      <td>2</td>\n",
              "      <td>112.0</td>\n",
              "      <td>73.0</td>\n",
              "      <td>...</td>\n",
              "      <td>18.0</td>\n",
              "      <td>20.0</td>\n",
              "      <td>35.0</td>\n",
              "      <td>2</td>\n",
              "      <td>2</td>\n",
              "      <td>1</td>\n",
              "      <td>0.0</td>\n",
              "      <td>1.0</td>\n",
              "      <td>2</td>\n",
              "      <td>Y</td>\n",
              "    </tr>\n",
              "    <tr>\n",
              "      <th>16</th>\n",
              "      <td>30</td>\n",
              "      <td>1</td>\n",
              "      <td>11</td>\n",
              "      <td>90.0</td>\n",
              "      <td>0.6</td>\n",
              "      <td>0.6</td>\n",
              "      <td>1</td>\n",
              "      <td>1</td>\n",
              "      <td>138.0</td>\n",
              "      <td>88.0</td>\n",
              "      <td>...</td>\n",
              "      <td>29.0</td>\n",
              "      <td>54.0</td>\n",
              "      <td>24.0</td>\n",
              "      <td>0</td>\n",
              "      <td>2</td>\n",
              "      <td>1</td>\n",
              "      <td>0.0</td>\n",
              "      <td>1.0</td>\n",
              "      <td>0</td>\n",
              "      <td>Y</td>\n",
              "    </tr>\n",
              "    <tr>\n",
              "      <th>21</th>\n",
              "      <td>41</td>\n",
              "      <td>2</td>\n",
              "      <td>11</td>\n",
              "      <td>65.9</td>\n",
              "      <td>0.7</td>\n",
              "      <td>1.0</td>\n",
              "      <td>1</td>\n",
              "      <td>1</td>\n",
              "      <td>114.0</td>\n",
              "      <td>73.0</td>\n",
              "      <td>...</td>\n",
              "      <td>24.0</td>\n",
              "      <td>14.0</td>\n",
              "      <td>12.0</td>\n",
              "      <td>0</td>\n",
              "      <td>0</td>\n",
              "      <td>1</td>\n",
              "      <td>0.0</td>\n",
              "      <td>0.0</td>\n",
              "      <td>0</td>\n",
              "      <td>N</td>\n",
              "    </tr>\n",
              "    <tr>\n",
              "      <th>27</th>\n",
              "      <td>11</td>\n",
              "      <td>1</td>\n",
              "      <td>17</td>\n",
              "      <td>82.0</td>\n",
              "      <td>0.5</td>\n",
              "      <td>0.7</td>\n",
              "      <td>1</td>\n",
              "      <td>1</td>\n",
              "      <td>139.0</td>\n",
              "      <td>85.0</td>\n",
              "      <td>...</td>\n",
              "      <td>33.0</td>\n",
              "      <td>22.0</td>\n",
              "      <td>29.0</td>\n",
              "      <td>0</td>\n",
              "      <td>2</td>\n",
              "      <td>1</td>\n",
              "      <td>0.0</td>\n",
              "      <td>0.0</td>\n",
              "      <td>0</td>\n",
              "      <td>N</td>\n",
              "    </tr>\n",
              "    <tr>\n",
              "      <th>47</th>\n",
              "      <td>26</td>\n",
              "      <td>1</td>\n",
              "      <td>16</td>\n",
              "      <td>94.0</td>\n",
              "      <td>1.5</td>\n",
              "      <td>0.6</td>\n",
              "      <td>2</td>\n",
              "      <td>2</td>\n",
              "      <td>110.0</td>\n",
              "      <td>72.0</td>\n",
              "      <td>...</td>\n",
              "      <td>28.0</td>\n",
              "      <td>20.0</td>\n",
              "      <td>43.0</td>\n",
              "      <td>0</td>\n",
              "      <td>2</td>\n",
              "      <td>1</td>\n",
              "      <td>0.0</td>\n",
              "      <td>0.0</td>\n",
              "      <td>0</td>\n",
              "      <td>N</td>\n",
              "    </tr>\n",
              "  </tbody>\n",
              "</table>\n",
              "<p>5 rows × 28 columns</p>\n",
              "</div>\n",
              "      <button class=\"colab-df-convert\" onclick=\"convertToInteractive('df-b98b2510-9650-4394-ba21-6dcda9c312eb')\"\n",
              "              title=\"Convert this dataframe to an interactive table.\"\n",
              "              style=\"display:none;\">\n",
              "        \n",
              "  <svg xmlns=\"http://www.w3.org/2000/svg\" height=\"24px\"viewBox=\"0 0 24 24\"\n",
              "       width=\"24px\">\n",
              "    <path d=\"M0 0h24v24H0V0z\" fill=\"none\"/>\n",
              "    <path d=\"M18.56 5.44l.94 2.06.94-2.06 2.06-.94-2.06-.94-.94-2.06-.94 2.06-2.06.94zm-11 1L8.5 8.5l.94-2.06 2.06-.94-2.06-.94L8.5 2.5l-.94 2.06-2.06.94zm10 10l.94 2.06.94-2.06 2.06-.94-2.06-.94-.94-2.06-.94 2.06-2.06.94z\"/><path d=\"M17.41 7.96l-1.37-1.37c-.4-.4-.92-.59-1.43-.59-.52 0-1.04.2-1.43.59L10.3 9.45l-7.72 7.72c-.78.78-.78 2.05 0 2.83L4 21.41c.39.39.9.59 1.41.59.51 0 1.02-.2 1.41-.59l7.78-7.78 2.81-2.81c.8-.78.8-2.07 0-2.86zM5.41 20L4 18.59l7.72-7.72 1.47 1.35L5.41 20z\"/>\n",
              "  </svg>\n",
              "      </button>\n",
              "      \n",
              "  <style>\n",
              "    .colab-df-container {\n",
              "      display:flex;\n",
              "      flex-wrap:wrap;\n",
              "      gap: 12px;\n",
              "    }\n",
              "\n",
              "    .colab-df-convert {\n",
              "      background-color: #E8F0FE;\n",
              "      border: none;\n",
              "      border-radius: 50%;\n",
              "      cursor: pointer;\n",
              "      display: none;\n",
              "      fill: #1967D2;\n",
              "      height: 32px;\n",
              "      padding: 0 0 0 0;\n",
              "      width: 32px;\n",
              "    }\n",
              "\n",
              "    .colab-df-convert:hover {\n",
              "      background-color: #E2EBFA;\n",
              "      box-shadow: 0px 1px 2px rgba(60, 64, 67, 0.3), 0px 1px 3px 1px rgba(60, 64, 67, 0.15);\n",
              "      fill: #174EA6;\n",
              "    }\n",
              "\n",
              "    [theme=dark] .colab-df-convert {\n",
              "      background-color: #3B4455;\n",
              "      fill: #D2E3FC;\n",
              "    }\n",
              "\n",
              "    [theme=dark] .colab-df-convert:hover {\n",
              "      background-color: #434B5C;\n",
              "      box-shadow: 0px 1px 3px 1px rgba(0, 0, 0, 0.15);\n",
              "      filter: drop-shadow(0px 1px 2px rgba(0, 0, 0, 0.3));\n",
              "      fill: #FFFFFF;\n",
              "    }\n",
              "  </style>\n",
              "\n",
              "      <script>\n",
              "        const buttonEl =\n",
              "          document.querySelector('#df-b98b2510-9650-4394-ba21-6dcda9c312eb button.colab-df-convert');\n",
              "        buttonEl.style.display =\n",
              "          google.colab.kernel.accessAllowed ? 'block' : 'none';\n",
              "\n",
              "        async function convertToInteractive(key) {\n",
              "          const element = document.querySelector('#df-b98b2510-9650-4394-ba21-6dcda9c312eb');\n",
              "          const dataTable =\n",
              "            await google.colab.kernel.invokeFunction('convertToInteractive',\n",
              "                                                     [key], {});\n",
              "          if (!dataTable) return;\n",
              "\n",
              "          const docLinkHtml = 'Like what you see? Visit the ' +\n",
              "            '<a target=\"_blank\" href=https://colab.research.google.com/notebooks/data_table.ipynb>data table notebook</a>'\n",
              "            + ' to learn more about interactive tables.';\n",
              "          element.innerHTML = '';\n",
              "          dataTable['output_type'] = 'display_data';\n",
              "          await google.colab.output.renderOutput(dataTable, element);\n",
              "          const docLink = document.createElement('div');\n",
              "          docLink.innerHTML = docLinkHtml;\n",
              "          element.appendChild(docLink);\n",
              "        }\n",
              "      </script>\n",
              "    </div>\n",
              "  </div>\n",
              "  "
            ]
          },
          "metadata": {},
          "execution_count": 117
        }
      ]
    },
    {
      "cell_type": "markdown",
      "source": [
        "#의사결정나무"
      ],
      "metadata": {
        "id": "h7tUUV96GKgA"
      }
    },
    {
      "cell_type": "code",
      "source": [
        "from sklearn.model_selection import train_test_split\n",
        "health_train, health_test = train_test_split(health, test_size = 0.25, \n",
        "                                             stratify= health['obesity'], random_state=42) "
      ],
      "metadata": {
        "id": "z7jghQGPGF4L"
      },
      "execution_count": 118,
      "outputs": []
    },
    {
      "cell_type": "code",
      "source": [
        "from sklearn import tree\n",
        "tree = tree.DecisionTreeClassifier(random_state=42) \n",
        "\n",
        "train_x = health_train.drop(columns = 'obesity') \n",
        "train_y = health_train['obesity']\n",
        "\n",
        "test_x = health_test.drop(columns = 'obesity')\n",
        "test_y = health_test['obesity']\n",
        "\n",
        "X = health_train.drop(columns = 'obesity') , health_test.drop(columns = 'obesity')\n",
        "y = health_train['obesity'], health_test['obesity']\n",
        "\n",
        "model = tree.fit(X = train_x, y = train_y)\n",
        "print(\"학습용 데이터 정확도: {:.3f}\".format(tree.score(train_x, train_y)))\n",
        "print(\"시험용 데이터 정확도: {:.3f}\".format(tree.score(test_x, test_y)))"
      ],
      "metadata": {
        "colab": {
          "base_uri": "https://localhost:8080/"
        },
        "id": "OfKv8ZI-GOPE",
        "outputId": "c14cf457-c6d3-49af-a45c-a0894a22c0c4"
      },
      "execution_count": 119,
      "outputs": [
        {
          "output_type": "stream",
          "name": "stdout",
          "text": [
            "학습용 데이터 정확도: 1.000\n",
            "시험용 데이터 정확도: 0.732\n"
          ]
        }
      ]
    },
    {
      "cell_type": "code",
      "source": [
        "from sklearn import tree\n",
        "tree = tree.DecisionTreeClassifier(max_depth=3, random_state=42)\n",
        "model = tree.fit(X = train_x, y = train_y)\n",
        "\n",
        "print(\"학습용 데이터 정확도: {:.3f}\".format(tree.score(train_x, train_y)))\n",
        "print(\"시험용 데이터 정확도: {:.3f}\".format(tree.score(test_x, test_y)))"
      ],
      "metadata": {
        "colab": {
          "base_uri": "https://localhost:8080/"
        },
        "id": "NS7ZIJWfGPox",
        "outputId": "07dd7e69-648c-4a0e-c6be-9654324eabfb"
      },
      "execution_count": 120,
      "outputs": [
        {
          "output_type": "stream",
          "name": "stdout",
          "text": [
            "학습용 데이터 정확도: 0.830\n",
            "시험용 데이터 정확도: 0.812\n"
          ]
        }
      ]
    },
    {
      "cell_type": "code",
      "source": [
        "from sklearn.tree import export_graphviz\n",
        "import graphviz\n",
        "\n",
        "export_graphviz(tree, out_file=\"tree.dot\", class_names=[ \"N\", \"Y\"], \n",
        "                feature_names=train_x.columns, impurity=False, filled=True)\n",
        "\n",
        "with open(\"tree.dot\") as f:\n",
        "    dot_graph = f.read()\n",
        "\n",
        "display(graphviz.Source(dot_graph))"
      ],
      "metadata": {
        "colab": {
          "base_uri": "https://localhost:8080/",
          "height": 517
        },
        "id": "cFaPCxX9GTvQ",
        "outputId": "600da2b2-fbfd-4548-9c33-987f9e28c0ea"
      },
      "execution_count": 121,
      "outputs": [
        {
          "output_type": "display_data",
          "data": {
            "text/plain": [
              "<graphviz.files.Source at 0x7f48c4416090>"
            ],
            "image/svg+xml": "<?xml version=\"1.0\" encoding=\"UTF-8\" standalone=\"no\"?>\n<!DOCTYPE svg PUBLIC \"-//W3C//DTD SVG 1.1//EN\"\n \"http://www.w3.org/Graphics/SVG/1.1/DTD/svg11.dtd\">\n<!-- Generated by graphviz version 2.40.1 (20161225.0304)\n -->\n<!-- Title: Tree Pages: 1 -->\n<svg width=\"1062pt\" height=\"373pt\"\n viewBox=\"0.00 0.00 1062.00 373.00\" xmlns=\"http://www.w3.org/2000/svg\" xmlns:xlink=\"http://www.w3.org/1999/xlink\">\n<g id=\"graph0\" class=\"graph\" transform=\"scale(1 1) rotate(0) translate(4 369)\">\n<title>Tree</title>\n<polygon fill=\"#ffffff\" stroke=\"transparent\" points=\"-4,4 -4,-369 1058,-369 1058,4 -4,4\"/>\n<!-- 0 -->\n<g id=\"node1\" class=\"node\">\n<title>0</title>\n<polygon fill=\"#f5ceb3\" stroke=\"#000000\" points=\"575,-365 443,-365 443,-297 575,-297 575,-365\"/>\n<text text-anchor=\"middle\" x=\"509\" y=\"-349.8\" font-family=\"Helvetica,sans-Serif\" font-size=\"14.00\" fill=\"#000000\">WAIST &lt;= 85.65</text>\n<text text-anchor=\"middle\" x=\"509\" y=\"-334.8\" font-family=\"Helvetica,sans-Serif\" font-size=\"14.00\" fill=\"#000000\">samples = 936</text>\n<text text-anchor=\"middle\" x=\"509\" y=\"-319.8\" font-family=\"Helvetica,sans-Serif\" font-size=\"14.00\" fill=\"#000000\">value = [580, 356]</text>\n<text text-anchor=\"middle\" x=\"509\" y=\"-304.8\" font-family=\"Helvetica,sans-Serif\" font-size=\"14.00\" fill=\"#000000\">class = N</text>\n</g>\n<!-- 1 -->\n<g id=\"node2\" class=\"node\">\n<title>1</title>\n<polygon fill=\"#e99659\" stroke=\"#000000\" points=\"492,-261 368,-261 368,-193 492,-193 492,-261\"/>\n<text text-anchor=\"middle\" x=\"430\" y=\"-245.8\" font-family=\"Helvetica,sans-Serif\" font-size=\"14.00\" fill=\"#000000\">WAIST &lt;= 79.9</text>\n<text text-anchor=\"middle\" x=\"430\" y=\"-230.8\" font-family=\"Helvetica,sans-Serif\" font-size=\"14.00\" fill=\"#000000\">samples = 568</text>\n<text text-anchor=\"middle\" x=\"430\" y=\"-215.8\" font-family=\"Helvetica,sans-Serif\" font-size=\"14.00\" fill=\"#000000\">value = [488, 80]</text>\n<text text-anchor=\"middle\" x=\"430\" y=\"-200.8\" font-family=\"Helvetica,sans-Serif\" font-size=\"14.00\" fill=\"#000000\">class = N</text>\n</g>\n<!-- 0&#45;&gt;1 -->\n<g id=\"edge1\" class=\"edge\">\n<title>0&#45;&gt;1</title>\n<path fill=\"none\" stroke=\"#000000\" d=\"M483.1324,-296.9465C476.3804,-288.0578 469.0226,-278.3716 461.9941,-269.1188\"/>\n<polygon fill=\"#000000\" stroke=\"#000000\" points=\"464.7617,-266.976 455.9257,-261.13 459.1875,-271.2102 464.7617,-266.976\"/>\n<text text-anchor=\"middle\" x=\"452.5418\" y=\"-282.1999\" font-family=\"Helvetica,sans-Serif\" font-size=\"14.00\" fill=\"#000000\">True</text>\n</g>\n<!-- 8 -->\n<g id=\"node9\" class=\"node\">\n<title>8</title>\n<polygon fill=\"#7bbeee\" stroke=\"#000000\" points=\"686,-261 562,-261 562,-193 686,-193 686,-261\"/>\n<text text-anchor=\"middle\" x=\"624\" y=\"-245.8\" font-family=\"Helvetica,sans-Serif\" font-size=\"14.00\" fill=\"#000000\">WAIST &lt;= 89.1</text>\n<text text-anchor=\"middle\" x=\"624\" y=\"-230.8\" font-family=\"Helvetica,sans-Serif\" font-size=\"14.00\" fill=\"#000000\">samples = 368</text>\n<text text-anchor=\"middle\" x=\"624\" y=\"-215.8\" font-family=\"Helvetica,sans-Serif\" font-size=\"14.00\" fill=\"#000000\">value = [92, 276]</text>\n<text text-anchor=\"middle\" x=\"624\" y=\"-200.8\" font-family=\"Helvetica,sans-Serif\" font-size=\"14.00\" fill=\"#000000\">class = Y</text>\n</g>\n<!-- 0&#45;&gt;8 -->\n<g id=\"edge8\" class=\"edge\">\n<title>0&#45;&gt;8</title>\n<path fill=\"none\" stroke=\"#000000\" d=\"M546.6553,-296.9465C556.8813,-287.6986 568.0618,-277.5876 578.6641,-267.9994\"/>\n<polygon fill=\"#000000\" stroke=\"#000000\" points=\"581.1908,-270.4334 586.2601,-261.13 576.4956,-265.2416 581.1908,-270.4334\"/>\n<text text-anchor=\"middle\" x=\"585.006\" y=\"-282.3985\" font-family=\"Helvetica,sans-Serif\" font-size=\"14.00\" fill=\"#000000\">False</text>\n</g>\n<!-- 2 -->\n<g id=\"node3\" class=\"node\">\n<title>2</title>\n<polygon fill=\"#e68641\" stroke=\"#000000\" points=\"274.5,-157 109.5,-157 109.5,-89 274.5,-89 274.5,-157\"/>\n<text text-anchor=\"middle\" x=\"192\" y=\"-141.8\" font-family=\"Helvetica,sans-Serif\" font-size=\"14.00\" fill=\"#000000\">HDL_CHOLE &lt;= 115.0</text>\n<text text-anchor=\"middle\" x=\"192\" y=\"-126.8\" font-family=\"Helvetica,sans-Serif\" font-size=\"14.00\" fill=\"#000000\">samples = 344</text>\n<text text-anchor=\"middle\" x=\"192\" y=\"-111.8\" font-family=\"Helvetica,sans-Serif\" font-size=\"14.00\" fill=\"#000000\">value = [330, 14]</text>\n<text text-anchor=\"middle\" x=\"192\" y=\"-96.8\" font-family=\"Helvetica,sans-Serif\" font-size=\"14.00\" fill=\"#000000\">class = N</text>\n</g>\n<!-- 1&#45;&gt;2 -->\n<g id=\"edge2\" class=\"edge\">\n<title>1&#45;&gt;2</title>\n<path fill=\"none\" stroke=\"#000000\" d=\"M367.7792,-199.8111C340.8106,-188.0265 308.7604,-174.0213 279.4597,-161.2177\"/>\n<polygon fill=\"#000000\" stroke=\"#000000\" points=\"280.6179,-157.9042 270.053,-157.1072 277.8149,-164.3186 280.6179,-157.9042\"/>\n</g>\n<!-- 5 -->\n<g id=\"node6\" class=\"node\">\n<title>5</title>\n<polygon fill=\"#f0b68c\" stroke=\"#000000\" points=\"501.5,-157 358.5,-157 358.5,-89 501.5,-89 501.5,-157\"/>\n<text text-anchor=\"middle\" x=\"430\" y=\"-141.8\" font-family=\"Helvetica,sans-Serif\" font-size=\"14.00\" fill=\"#000000\">SGPT_ALT &lt;= 38.5</text>\n<text text-anchor=\"middle\" x=\"430\" y=\"-126.8\" font-family=\"Helvetica,sans-Serif\" font-size=\"14.00\" fill=\"#000000\">samples = 224</text>\n<text text-anchor=\"middle\" x=\"430\" y=\"-111.8\" font-family=\"Helvetica,sans-Serif\" font-size=\"14.00\" fill=\"#000000\">value = [158, 66]</text>\n<text text-anchor=\"middle\" x=\"430\" y=\"-96.8\" font-family=\"Helvetica,sans-Serif\" font-size=\"14.00\" fill=\"#000000\">class = N</text>\n</g>\n<!-- 1&#45;&gt;5 -->\n<g id=\"edge5\" class=\"edge\">\n<title>1&#45;&gt;5</title>\n<path fill=\"none\" stroke=\"#000000\" d=\"M430,-192.9465C430,-184.776 430,-175.9318 430,-167.3697\"/>\n<polygon fill=\"#000000\" stroke=\"#000000\" points=\"433.5001,-167.13 430,-157.13 426.5001,-167.13 433.5001,-167.13\"/>\n</g>\n<!-- 3 -->\n<g id=\"node4\" class=\"node\">\n<title>3</title>\n<polygon fill=\"#e68641\" stroke=\"#000000\" points=\"124,-53 0,-53 0,0 124,0 124,-53\"/>\n<text text-anchor=\"middle\" x=\"62\" y=\"-37.8\" font-family=\"Helvetica,sans-Serif\" font-size=\"14.00\" fill=\"#000000\">samples = 343</text>\n<text text-anchor=\"middle\" x=\"62\" y=\"-22.8\" font-family=\"Helvetica,sans-Serif\" font-size=\"14.00\" fill=\"#000000\">value = [330, 13]</text>\n<text text-anchor=\"middle\" x=\"62\" y=\"-7.8\" font-family=\"Helvetica,sans-Serif\" font-size=\"14.00\" fill=\"#000000\">class = N</text>\n</g>\n<!-- 2&#45;&gt;3 -->\n<g id=\"edge3\" class=\"edge\">\n<title>2&#45;&gt;3</title>\n<path fill=\"none\" stroke=\"#000000\" d=\"M146.1669,-88.9777C133.2143,-79.3629 119.1465,-68.9203 106.2867,-59.3743\"/>\n<polygon fill=\"#000000\" stroke=\"#000000\" points=\"108.1499,-56.3986 98.0342,-53.2485 103.9776,-62.0193 108.1499,-56.3986\"/>\n</g>\n<!-- 4 -->\n<g id=\"node5\" class=\"node\">\n<title>4</title>\n<polygon fill=\"#399de5\" stroke=\"#000000\" points=\"241.5,-53 142.5,-53 142.5,0 241.5,0 241.5,-53\"/>\n<text text-anchor=\"middle\" x=\"192\" y=\"-37.8\" font-family=\"Helvetica,sans-Serif\" font-size=\"14.00\" fill=\"#000000\">samples = 1</text>\n<text text-anchor=\"middle\" x=\"192\" y=\"-22.8\" font-family=\"Helvetica,sans-Serif\" font-size=\"14.00\" fill=\"#000000\">value = [0, 1]</text>\n<text text-anchor=\"middle\" x=\"192\" y=\"-7.8\" font-family=\"Helvetica,sans-Serif\" font-size=\"14.00\" fill=\"#000000\">class = Y</text>\n</g>\n<!-- 2&#45;&gt;4 -->\n<g id=\"edge4\" class=\"edge\">\n<title>2&#45;&gt;4</title>\n<path fill=\"none\" stroke=\"#000000\" d=\"M192,-88.9777C192,-80.7364 192,-71.887 192,-63.5153\"/>\n<polygon fill=\"#000000\" stroke=\"#000000\" points=\"195.5001,-63.2484 192,-53.2485 188.5001,-63.2485 195.5001,-63.2484\"/>\n</g>\n<!-- 6 -->\n<g id=\"node7\" class=\"node\">\n<title>6</title>\n<polygon fill=\"#eead7e\" stroke=\"#000000\" points=\"384,-53 260,-53 260,0 384,0 384,-53\"/>\n<text text-anchor=\"middle\" x=\"322\" y=\"-37.8\" font-family=\"Helvetica,sans-Serif\" font-size=\"14.00\" fill=\"#000000\">samples = 197</text>\n<text text-anchor=\"middle\" x=\"322\" y=\"-22.8\" font-family=\"Helvetica,sans-Serif\" font-size=\"14.00\" fill=\"#000000\">value = [146, 51]</text>\n<text text-anchor=\"middle\" x=\"322\" y=\"-7.8\" font-family=\"Helvetica,sans-Serif\" font-size=\"14.00\" fill=\"#000000\">class = N</text>\n</g>\n<!-- 5&#45;&gt;6 -->\n<g id=\"edge6\" class=\"edge\">\n<title>5&#45;&gt;6</title>\n<path fill=\"none\" stroke=\"#000000\" d=\"M391.9232,-88.9777C381.3676,-79.546 369.9204,-69.3178 359.4036,-59.9208\"/>\n<polygon fill=\"#000000\" stroke=\"#000000\" points=\"361.7251,-57.3015 351.9361,-53.2485 357.061,-62.5213 361.7251,-57.3015\"/>\n</g>\n<!-- 7 -->\n<g id=\"node8\" class=\"node\">\n<title>7</title>\n<polygon fill=\"#d7ebfa\" stroke=\"#000000\" points=\"518,-53 402,-53 402,0 518,0 518,-53\"/>\n<text text-anchor=\"middle\" x=\"460\" y=\"-37.8\" font-family=\"Helvetica,sans-Serif\" font-size=\"14.00\" fill=\"#000000\">samples = 27</text>\n<text text-anchor=\"middle\" x=\"460\" y=\"-22.8\" font-family=\"Helvetica,sans-Serif\" font-size=\"14.00\" fill=\"#000000\">value = [12, 15]</text>\n<text text-anchor=\"middle\" x=\"460\" y=\"-7.8\" font-family=\"Helvetica,sans-Serif\" font-size=\"14.00\" fill=\"#000000\">class = Y</text>\n</g>\n<!-- 5&#45;&gt;7 -->\n<g id=\"edge7\" class=\"edge\">\n<title>5&#45;&gt;7</title>\n<path fill=\"none\" stroke=\"#000000\" d=\"M440.5769,-88.9777C443.1959,-80.5533 446.0124,-71.4934 448.6659,-62.9579\"/>\n<polygon fill=\"#000000\" stroke=\"#000000\" points=\"452.0579,-63.8367 451.6844,-53.2485 445.3735,-61.7586 452.0579,-63.8367\"/>\n</g>\n<!-- 9 -->\n<g id=\"node10\" class=\"node\">\n<title>9</title>\n<polygon fill=\"#e0f0fb\" stroke=\"#000000\" points=\"692.5,-157 555.5,-157 555.5,-89 692.5,-89 692.5,-157\"/>\n<text text-anchor=\"middle\" x=\"624\" y=\"-141.8\" font-family=\"Helvetica,sans-Serif\" font-size=\"14.00\" fill=\"#000000\">BP_LWST &lt;= 76.5</text>\n<text text-anchor=\"middle\" x=\"624\" y=\"-126.8\" font-family=\"Helvetica,sans-Serif\" font-size=\"14.00\" fill=\"#000000\">samples = 140</text>\n<text text-anchor=\"middle\" x=\"624\" y=\"-111.8\" font-family=\"Helvetica,sans-Serif\" font-size=\"14.00\" fill=\"#000000\">value = [64, 76]</text>\n<text text-anchor=\"middle\" x=\"624\" y=\"-96.8\" font-family=\"Helvetica,sans-Serif\" font-size=\"14.00\" fill=\"#000000\">class = Y</text>\n</g>\n<!-- 8&#45;&gt;9 -->\n<g id=\"edge9\" class=\"edge\">\n<title>8&#45;&gt;9</title>\n<path fill=\"none\" stroke=\"#000000\" d=\"M624,-192.9465C624,-184.776 624,-175.9318 624,-167.3697\"/>\n<polygon fill=\"#000000\" stroke=\"#000000\" points=\"627.5001,-167.13 624,-157.13 620.5001,-167.13 627.5001,-167.13\"/>\n</g>\n<!-- 12 -->\n<g id=\"node13\" class=\"node\">\n<title>12</title>\n<polygon fill=\"#55abe9\" stroke=\"#000000\" points=\"924,-157 800,-157 800,-89 924,-89 924,-157\"/>\n<text text-anchor=\"middle\" x=\"862\" y=\"-141.8\" font-family=\"Helvetica,sans-Serif\" font-size=\"14.00\" fill=\"#000000\">WAIST &lt;= 94.05</text>\n<text text-anchor=\"middle\" x=\"862\" y=\"-126.8\" font-family=\"Helvetica,sans-Serif\" font-size=\"14.00\" fill=\"#000000\">samples = 228</text>\n<text text-anchor=\"middle\" x=\"862\" y=\"-111.8\" font-family=\"Helvetica,sans-Serif\" font-size=\"14.00\" fill=\"#000000\">value = [28, 200]</text>\n<text text-anchor=\"middle\" x=\"862\" y=\"-96.8\" font-family=\"Helvetica,sans-Serif\" font-size=\"14.00\" fill=\"#000000\">class = Y</text>\n</g>\n<!-- 8&#45;&gt;12 -->\n<g id=\"edge12\" class=\"edge\">\n<title>8&#45;&gt;12</title>\n<path fill=\"none\" stroke=\"#000000\" d=\"M686.2208,-199.8111C718.1976,-185.838 757.3189,-168.743 790.5298,-154.2307\"/>\n<polygon fill=\"#000000\" stroke=\"#000000\" points=\"791.9675,-157.4221 799.7294,-150.2107 789.1646,-151.0077 791.9675,-157.4221\"/>\n</g>\n<!-- 10 -->\n<g id=\"node11\" class=\"node\">\n<title>10</title>\n<polygon fill=\"#f9e3d2\" stroke=\"#000000\" points=\"652,-53 536,-53 536,0 652,0 652,-53\"/>\n<text text-anchor=\"middle\" x=\"594\" y=\"-37.8\" font-family=\"Helvetica,sans-Serif\" font-size=\"14.00\" fill=\"#000000\">samples = 71</text>\n<text text-anchor=\"middle\" x=\"594\" y=\"-22.8\" font-family=\"Helvetica,sans-Serif\" font-size=\"14.00\" fill=\"#000000\">value = [40, 31]</text>\n<text text-anchor=\"middle\" x=\"594\" y=\"-7.8\" font-family=\"Helvetica,sans-Serif\" font-size=\"14.00\" fill=\"#000000\">class = N</text>\n</g>\n<!-- 9&#45;&gt;10 -->\n<g id=\"edge10\" class=\"edge\">\n<title>9&#45;&gt;10</title>\n<path fill=\"none\" stroke=\"#000000\" d=\"M613.4231,-88.9777C610.8041,-80.5533 607.9876,-71.4934 605.3341,-62.9579\"/>\n<polygon fill=\"#000000\" stroke=\"#000000\" points=\"608.6265,-61.7586 602.3156,-53.2485 601.9421,-63.8367 608.6265,-61.7586\"/>\n</g>\n<!-- 11 -->\n<g id=\"node12\" class=\"node\">\n<title>11</title>\n<polygon fill=\"#a3d1f3\" stroke=\"#000000\" points=\"786,-53 670,-53 670,0 786,0 786,-53\"/>\n<text text-anchor=\"middle\" x=\"728\" y=\"-37.8\" font-family=\"Helvetica,sans-Serif\" font-size=\"14.00\" fill=\"#000000\">samples = 69</text>\n<text text-anchor=\"middle\" x=\"728\" y=\"-22.8\" font-family=\"Helvetica,sans-Serif\" font-size=\"14.00\" fill=\"#000000\">value = [24, 45]</text>\n<text text-anchor=\"middle\" x=\"728\" y=\"-7.8\" font-family=\"Helvetica,sans-Serif\" font-size=\"14.00\" fill=\"#000000\">class = Y</text>\n</g>\n<!-- 9&#45;&gt;11 -->\n<g id=\"edge11\" class=\"edge\">\n<title>9&#45;&gt;11</title>\n<path fill=\"none\" stroke=\"#000000\" d=\"M660.6665,-88.9777C670.7325,-79.6376 681.6404,-69.5163 691.6865,-60.1947\"/>\n<polygon fill=\"#000000\" stroke=\"#000000\" points=\"694.2228,-62.616 699.1726,-53.2485 689.4615,-57.4847 694.2228,-62.616\"/>\n</g>\n<!-- 13 -->\n<g id=\"node14\" class=\"node\">\n<title>13</title>\n<polygon fill=\"#72b9ed\" stroke=\"#000000\" points=\"920,-53 804,-53 804,0 920,0 920,-53\"/>\n<text text-anchor=\"middle\" x=\"862\" y=\"-37.8\" font-family=\"Helvetica,sans-Serif\" font-size=\"14.00\" fill=\"#000000\">samples = 125</text>\n<text text-anchor=\"middle\" x=\"862\" y=\"-22.8\" font-family=\"Helvetica,sans-Serif\" font-size=\"14.00\" fill=\"#000000\">value = [28, 97]</text>\n<text text-anchor=\"middle\" x=\"862\" y=\"-7.8\" font-family=\"Helvetica,sans-Serif\" font-size=\"14.00\" fill=\"#000000\">class = Y</text>\n</g>\n<!-- 12&#45;&gt;13 -->\n<g id=\"edge13\" class=\"edge\">\n<title>12&#45;&gt;13</title>\n<path fill=\"none\" stroke=\"#000000\" d=\"M862,-88.9777C862,-80.7364 862,-71.887 862,-63.5153\"/>\n<polygon fill=\"#000000\" stroke=\"#000000\" points=\"865.5001,-63.2484 862,-53.2485 858.5001,-63.2485 865.5001,-63.2484\"/>\n</g>\n<!-- 14 -->\n<g id=\"node15\" class=\"node\">\n<title>14</title>\n<polygon fill=\"#399de5\" stroke=\"#000000\" points=\"1054,-53 938,-53 938,0 1054,0 1054,-53\"/>\n<text text-anchor=\"middle\" x=\"996\" y=\"-37.8\" font-family=\"Helvetica,sans-Serif\" font-size=\"14.00\" fill=\"#000000\">samples = 103</text>\n<text text-anchor=\"middle\" x=\"996\" y=\"-22.8\" font-family=\"Helvetica,sans-Serif\" font-size=\"14.00\" fill=\"#000000\">value = [0, 103]</text>\n<text text-anchor=\"middle\" x=\"996\" y=\"-7.8\" font-family=\"Helvetica,sans-Serif\" font-size=\"14.00\" fill=\"#000000\">class = Y</text>\n</g>\n<!-- 12&#45;&gt;14 -->\n<g id=\"edge14\" class=\"edge\">\n<title>12&#45;&gt;14</title>\n<path fill=\"none\" stroke=\"#000000\" d=\"M909.2434,-88.9777C922.7217,-79.2713 937.3715,-68.7213 950.7291,-59.1018\"/>\n<polygon fill=\"#000000\" stroke=\"#000000\" points=\"952.7876,-61.9325 958.857,-53.2485 948.6969,-56.2522 952.7876,-61.9325\"/>\n</g>\n</g>\n</svg>\n"
          },
          "metadata": {}
        }
      ]
    },
    {
      "cell_type": "code",
      "source": [
        "result = tree.feature_importances_\n",
        "print(\"변수의 중요도:\\n\", result)"
      ],
      "metadata": {
        "colab": {
          "base_uri": "https://localhost:8080/"
        },
        "id": "NIE4rP5cGdZ1",
        "outputId": "695e6ff6-d3a4-4392-e470-ca1408971c57"
      },
      "execution_count": 122,
      "outputs": [
        {
          "output_type": "stream",
          "name": "stdout",
          "text": [
            "변수의 중요도:\n",
            " [0.         0.         0.         0.95735718 0.         0.\n",
            " 0.         0.         0.         0.0149463  0.         0.\n",
            " 0.         0.00848431 0.         0.         0.         0.\n",
            " 0.         0.01921221 0.         0.         0.         0.\n",
            " 0.         0.         0.        ]\n"
          ]
        }
      ]
    },
    {
      "cell_type": "code",
      "source": [
        "import numpy as np\n",
        "\n",
        "def plot_feature_importances_health(model):\n",
        "    plt.rcParams[\"figure.figsize\"] = (9,6)\n",
        "    n_features = len(health.columns[:27])\n",
        "    plt.barh(np.arange(n_features), model.feature_importances_, align='center') \n",
        "    plt.yticks(np.arange(n_features), health.columns[0:27]) \n",
        "    plt.xlabel(\"feature importance\")\n",
        "    plt.ylabel(\"feature\")\n",
        "    plt.ylim(-1, n_features)\n",
        "\n",
        "plot_feature_importances_health(tree)"
      ],
      "metadata": {
        "colab": {
          "base_uri": "https://localhost:8080/",
          "height": 388
        },
        "id": "UKxS1MIIGeU8",
        "outputId": "28df4d16-e967-4f6e-898b-a2e7ed660cc0"
      },
      "execution_count": 123,
      "outputs": [
        {
          "output_type": "display_data",
          "data": {
            "text/plain": [
              "<Figure size 648x432 with 1 Axes>"
            ],
            "image/png": "[encoded data removed]"
          },
          "metadata": {
            "needs_background": "light"
          }
        }
      ]
    },
    {
      "cell_type": "code",
      "source": [
        "res = pd.DataFrame(result)\n",
        "res[\"name\"] = health.columns[:27]\n",
        "display(res.info())\n",
        " \n",
        "display(res.sort_values(by='name'))"
      ],
      "metadata": {
        "colab": {
          "base_uri": "https://localhost:8080/",
          "height": 1000
        },
        "id": "onb5PDKBGh7S",
        "outputId": "ed8646e8-24b8-450e-e973-ba3acddc5143"
      },
      "execution_count": 124,
      "outputs": [
        {
          "output_type": "stream",
          "name": "stdout",
          "text": [
            "<class 'pandas.core.frame.DataFrame'>\n",
            "RangeIndex: 27 entries, 0 to 26\n",
            "Data columns (total 2 columns):\n",
            " #   Column  Non-Null Count  Dtype  \n",
            "---  ------  --------------  -----  \n",
            " 0   0       27 non-null     float64\n",
            " 1   name    27 non-null     object \n",
            "dtypes: float64(1), object(1)\n",
            "memory usage: 560.0+ bytes\n"
          ]
        },
        {
          "output_type": "display_data",
          "data": {
            "text/plain": [
              "None"
            ]
          },
          "metadata": {}
        },
        {
          "output_type": "display_data",
          "data": {
            "text/plain": [
              "           0               name\n",
              "2   0.000000          AGE_GROUP\n",
              "10  0.000000               BLDS\n",
              "8   0.000000            BP_HIGH\n",
              "9   0.014946            BP_LWST\n",
              "17  0.000000         CREATININE\n",
              "24  0.000000             CRS_YN\n",
              "22  0.000000             DRK_YN\n",
              "20  0.000000          GAMMA_GTP\n",
              "23  0.000000  HCHK_OE_INSPEC_YN\n",
              "13  0.008484          HDL_CHOLE\n",
              "6   0.000000          HEAR_LEFT\n",
              "7   0.000000         HEAR_RIGHT\n",
              "15  0.000000                HMG\n",
              "14  0.000000          LDL_CHOLE\n",
              "16  0.000000      OLIG_PROTE_CD\n",
              "1   0.000000                SEX\n",
              "18  0.000000           SGOT_AST\n",
              "19  0.019212           SGPT_ALT\n",
              "0   0.000000               SIDO\n",
              "4   0.000000         SIGHT_LEFT\n",
              "5   0.000000        SIGHT_RIGHT\n",
              "21  0.000000   SMK_STAT_TYPE_CD\n",
              "11  0.000000          TOT_CHOLE\n",
              "12  0.000000       TRIGLYCERIDE\n",
              "25  0.000000             TTR_YN\n",
              "3   0.957357              WAIST\n",
              "26  0.000000           disbetes"
            ],
            "text/html": [
              "\n",
              "  <div id=\"df-74b9bd68-0670-4f9d-972a-81668c36a495\">\n",
              "    <div class=\"colab-df-container\">\n",
              "      <div>\n",
              "<style scoped>\n",
              "    .dataframe tbody tr th:only-of-type {\n",
              "        vertical-align: middle;\n",
              "    }\n",
              "\n",
              "    .dataframe tbody tr th {\n",
              "        vertical-align: top;\n",
              "    }\n",
              "\n",
              "    .dataframe thead th {\n",
              "        text-align: right;\n",
              "    }\n",
              "</style>\n",
              "<table border=\"1\" class=\"dataframe\">\n",
              "  <thead>\n",
              "    <tr style=\"text-align: right;\">\n",
              "      <th></th>\n",
              "      <th>0</th>\n",
              "      <th>name</th>\n",
              "    </tr>\n",
              "  </thead>\n",
              "  <tbody>\n",
              "    <tr>\n",
              "      <th>2</th>\n",
              "      <td>0.000000</td>\n",
              "      <td>AGE_GROUP</td>\n",
              "    </tr>\n",
              "    <tr>\n",
              "      <th>10</th>\n",
              "      <td>0.000000</td>\n",
              "      <td>BLDS</td>\n",
              "    </tr>\n",
              "    <tr>\n",
              "      <th>8</th>\n",
              "      <td>0.000000</td>\n",
              "      <td>BP_HIGH</td>\n",
              "    </tr>\n",
              "    <tr>\n",
              "      <th>9</th>\n",
              "      <td>0.014946</td>\n",
              "      <td>BP_LWST</td>\n",
              "    </tr>\n",
              "    <tr>\n",
              "      <th>17</th>\n",
              "      <td>0.000000</td>\n",
              "      <td>CREATININE</td>\n",
              "    </tr>\n",
              "    <tr>\n",
              "      <th>24</th>\n",
              "      <td>0.000000</td>\n",
              "      <td>CRS_YN</td>\n",
              "    </tr>\n",
              "    <tr>\n",
              "      <th>22</th>\n",
              "      <td>0.000000</td>\n",
              "      <td>DRK_YN</td>\n",
              "    </tr>\n",
              "    <tr>\n",
              "      <th>20</th>\n",
              "      <td>0.000000</td>\n",
              "      <td>GAMMA_GTP</td>\n",
              "    </tr>\n",
              "    <tr>\n",
              "      <th>23</th>\n",
              "      <td>0.000000</td>\n",
              "      <td>HCHK_OE_INSPEC_YN</td>\n",
              "    </tr>\n",
              "    <tr>\n",
              "      <th>13</th>\n",
              "      <td>0.008484</td>\n",
              "      <td>HDL_CHOLE</td>\n",
              "    </tr>\n",
              "    <tr>\n",
              "      <th>6</th>\n",
              "      <td>0.000000</td>\n",
              "      <td>HEAR_LEFT</td>\n",
              "    </tr>\n",
              "    <tr>\n",
              "      <th>7</th>\n",
              "      <td>0.000000</td>\n",
              "      <td>HEAR_RIGHT</td>\n",
              "    </tr>\n",
              "    <tr>\n",
              "      <th>15</th>\n",
              "      <td>0.000000</td>\n",
              "      <td>HMG</td>\n",
              "    </tr>\n",
              "    <tr>\n",
              "      <th>14</th>\n",
              "      <td>0.000000</td>\n",
              "      <td>LDL_CHOLE</td>\n",
              "    </tr>\n",
              "    <tr>\n",
              "      <th>16</th>\n",
              "      <td>0.000000</td>\n",
              "      <td>OLIG_PROTE_CD</td>\n",
              "    </tr>\n",
              "    <tr>\n",
              "      <th>1</th>\n",
              "      <td>0.000000</td>\n",
              "      <td>SEX</td>\n",
              "    </tr>\n",
              "    <tr>\n",
              "      <th>18</th>\n",
              "      <td>0.000000</td>\n",
              "      <td>SGOT_AST</td>\n",
              "    </tr>\n",
              "    <tr>\n",
              "      <th>19</th>\n",
              "      <td>0.019212</td>\n",
              "      <td>SGPT_ALT</td>\n",
              "    </tr>\n",
              "    <tr>\n",
              "      <th>0</th>\n",
              "      <td>0.000000</td>\n",
              "      <td>SIDO</td>\n",
              "    </tr>\n",
              "    <tr>\n",
              "      <th>4</th>\n",
              "      <td>0.000000</td>\n",
              "      <td>SIGHT_LEFT</td>\n",
              "    </tr>\n",
              "    <tr>\n",
              "      <th>5</th>\n",
              "      <td>0.000000</td>\n",
              "      <td>SIGHT_RIGHT</td>\n",
              "    </tr>\n",
              "    <tr>\n",
              "      <th>21</th>\n",
              "      <td>0.000000</td>\n",
              "      <td>SMK_STAT_TYPE_CD</td>\n",
              "    </tr>\n",
              "    <tr>\n",
              "      <th>11</th>\n",
              "      <td>0.000000</td>\n",
              "      <td>TOT_CHOLE</td>\n",
              "    </tr>\n",
              "    <tr>\n",
              "      <th>12</th>\n",
              "      <td>0.000000</td>\n",
              "      <td>TRIGLYCERIDE</td>\n",
              "    </tr>\n",
              "    <tr>\n",
              "      <th>25</th>\n",
              "      <td>0.000000</td>\n",
              "      <td>TTR_YN</td>\n",
              "    </tr>\n",
              "    <tr>\n",
              "      <th>3</th>\n",
              "      <td>0.957357</td>\n",
              "      <td>WAIST</td>\n",
              "    </tr>\n",
              "    <tr>\n",
              "      <th>26</th>\n",
              "      <td>0.000000</td>\n",
              "      <td>disbetes</td>\n",
              "    </tr>\n",
              "  </tbody>\n",
              "</table>\n",
              "</div>\n",
              "      <button class=\"colab-df-convert\" onclick=\"convertToInteractive('df-74b9bd68-0670-4f9d-972a-81668c36a495')\"\n",
              "              title=\"Convert this dataframe to an interactive table.\"\n",
              "              style=\"display:none;\">\n",
              "        \n",
              "  <svg xmlns=\"http://www.w3.org/2000/svg\" height=\"24px\"viewBox=\"0 0 24 24\"\n",
              "       width=\"24px\">\n",
              "    <path d=\"M0 0h24v24H0V0z\" fill=\"none\"/>\n",
              "    <path d=\"M18.56 5.44l.94 2.06.94-2.06 2.06-.94-2.06-.94-.94-2.06-.94 2.06-2.06.94zm-11 1L8.5 8.5l.94-2.06 2.06-.94-2.06-.94L8.5 2.5l-.94 2.06-2.06.94zm10 10l.94 2.06.94-2.06 2.06-.94-2.06-.94-.94-2.06-.94 2.06-2.06.94z\"/><path d=\"M17.41 7.96l-1.37-1.37c-.4-.4-.92-.59-1.43-.59-.52 0-1.04.2-1.43.59L10.3 9.45l-7.72 7.72c-.78.78-.78 2.05 0 2.83L4 21.41c.39.39.9.59 1.41.59.51 0 1.02-.2 1.41-.59l7.78-7.78 2.81-2.81c.8-.78.8-2.07 0-2.86zM5.41 20L4 18.59l7.72-7.72 1.47 1.35L5.41 20z\"/>\n",
              "  </svg>\n",
              "      </button>\n",
              "      \n",
              "  <style>\n",
              "    .colab-df-container {\n",
              "      display:flex;\n",
              "      flex-wrap:wrap;\n",
              "      gap: 12px;\n",
              "    }\n",
              "\n",
              "    .colab-df-convert {\n",
              "      background-color: #E8F0FE;\n",
              "      border: none;\n",
              "      border-radius: 50%;\n",
              "      cursor: pointer;\n",
              "      display: none;\n",
              "      fill: #1967D2;\n",
              "      height: 32px;\n",
              "      padding: 0 0 0 0;\n",
              "      width: 32px;\n",
              "    }\n",
              "\n",
              "    .colab-df-convert:hover {\n",
              "      background-color: #E2EBFA;\n",
              "      box-shadow: 0px 1px 2px rgba(60, 64, 67, 0.3), 0px 1px 3px 1px rgba(60, 64, 67, 0.15);\n",
              "      fill: #174EA6;\n",
              "    }\n",
              "\n",
              "    [theme=dark] .colab-df-convert {\n",
              "      background-color: #3B4455;\n",
              "      fill: #D2E3FC;\n",
              "    }\n",
              "\n",
              "    [theme=dark] .colab-df-convert:hover {\n",
              "      background-color: #434B5C;\n",
              "      box-shadow: 0px 1px 3px 1px rgba(0, 0, 0, 0.15);\n",
              "      filter: drop-shadow(0px 1px 2px rgba(0, 0, 0, 0.3));\n",
              "      fill: #FFFFFF;\n",
              "    }\n",
              "  </style>\n",
              "\n",
              "      <script>\n",
              "        const buttonEl =\n",
              "          document.querySelector('#df-74b9bd68-0670-4f9d-972a-81668c36a495 button.colab-df-convert');\n",
              "        buttonEl.style.display =\n",
              "          google.colab.kernel.accessAllowed ? 'block' : 'none';\n",
              "\n",
              "        async function convertToInteractive(key) {\n",
              "          const element = document.querySelector('#df-74b9bd68-0670-4f9d-972a-81668c36a495');\n",
              "          const dataTable =\n",
              "            await google.colab.kernel.invokeFunction('convertToInteractive',\n",
              "                                                     [key], {});\n",
              "          if (!dataTable) return;\n",
              "\n",
              "          const docLinkHtml = 'Like what you see? Visit the ' +\n",
              "            '<a target=\"_blank\" href=https://colab.research.google.com/notebooks/data_table.ipynb>data table notebook</a>'\n",
              "            + ' to learn more about interactive tables.';\n",
              "          element.innerHTML = '';\n",
              "          dataTable['output_type'] = 'display_data';\n",
              "          await google.colab.output.renderOutput(dataTable, element);\n",
              "          const docLink = document.createElement('div');\n",
              "          docLink.innerHTML = docLinkHtml;\n",
              "          element.appendChild(docLink);\n",
              "        }\n",
              "      </script>\n",
              "    </div>\n",
              "  </div>\n",
              "  "
            ]
          },
          "metadata": {}
        }
      ]
    },
    {
      "cell_type": "markdown",
      "source": [
        "의사결정나무 모델에 따르면 비만 여부 예측에 가장 중요한 변수는 허리 둘레이다."
      ],
      "metadata": {
        "id": "D7-oEAY0GnRY"
      }
    },
    {
      "cell_type": "markdown",
      "source": [
        "#랜덤 포레스트(Random forest)"
      ],
      "metadata": {
        "id": "Kc_6dYEqGokM"
      }
    },
    {
      "cell_type": "code",
      "source": [
        "#100개의 나무 생성\n",
        "from sklearn.ensemble import RandomForestClassifier\n",
        "\n",
        "forest = RandomForestClassifier(n_estimators=100, random_state=0)\n",
        "forest.fit(train_x, train_y)\n",
        "\n",
        "print(\"학습용 데이터 세트 정확도: {:.3f}\".format(forest.score(train_x, train_y)))\n",
        "print(\"시험용 데이터 세트 정확도: {:.3f}\".format(forest.score(test_x, test_y)))"
      ],
      "metadata": {
        "colab": {
          "base_uri": "https://localhost:8080/"
        },
        "id": "TaHASpvnGkEK",
        "outputId": "bc5302f7-5e71-41e9-9999-81fce3c56a37"
      },
      "execution_count": 125,
      "outputs": [
        {
          "output_type": "stream",
          "name": "stdout",
          "text": [
            "학습용 데이터 세트 정확도: 1.000\n",
            "시험용 데이터 세트 정확도: 0.796\n"
          ]
        }
      ]
    },
    {
      "cell_type": "code",
      "source": [
        "# 단일 의사결정나무의 경우보다 많은 변수(feature)들이 사용됨\n",
        "plot_feature_importances_health(forest)"
      ],
      "metadata": {
        "colab": {
          "base_uri": "https://localhost:8080/",
          "height": 388
        },
        "id": "aI67qfm5Guuf",
        "outputId": "fc0af7e5-fc51-4320-93e5-17033f96b0e8"
      },
      "execution_count": 126,
      "outputs": [
        {
          "output_type": "display_data",
          "data": {
            "text/plain": [
              "<Figure size 648x432 with 1 Axes>"
            ],
            "image/png": "[encoded data removed]"
          },
          "metadata": {
            "needs_background": "light"
          }
        }
      ]
    },
    {
      "cell_type": "markdown",
      "source": [
        "랜덤 포레스트 모델에 따르면 비만 여부 예측에 허리 둘레가 가장 중요한 변수이다."
      ],
      "metadata": {
        "id": "scXPZ6MYGyG8"
      }
    },
    {
      "cell_type": "markdown",
      "source": [
        "#그래디언트 부스팅(Gradient Boosting)"
      ],
      "metadata": {
        "id": "LPK6SEYPG46O"
      }
    },
    {
      "cell_type": "code",
      "source": [
        "from sklearn.ensemble import GradientBoostingClassifier\n",
        "\n",
        "gbrt = GradientBoostingClassifier(random_state=0, max_depth=5)\n",
        "gbrt.fit(train_x, train_y)\n",
        "\n",
        "print(\"학습용 데이터 세트 정확도: {:.3f}\".format(gbrt.score(train_x, train_y)))\n",
        "print(\"시험용 데이터 세트 정확도: {:.3f}\".format(gbrt.score(test_x, test_y)))"
      ],
      "metadata": {
        "colab": {
          "base_uri": "https://localhost:8080/"
        },
        "id": "H-iOMxedG2RA",
        "outputId": "6282bc7c-aea9-42a7-a591-88c581e889ac"
      },
      "execution_count": 127,
      "outputs": [
        {
          "output_type": "stream",
          "name": "stdout",
          "text": [
            "학습용 데이터 세트 정확도: 0.999\n",
            "시험용 데이터 세트 정확도: 0.776\n"
          ]
        }
      ]
    },
    {
      "cell_type": "code",
      "source": [
        "#학습률 감소\n",
        "gbrt = GradientBoostingClassifier(random_state=0, learning_rate=0.01)\n",
        "gbrt.fit(train_x, train_y)\n",
        "\n",
        "print(\"학습 데이터 세트 정확도: {:.3f}\".format(gbrt.score(train_x, train_y)))\n",
        "print(\"시험용 데이터 세트 정확도: {:.3f}\".format(gbrt.score(test_x, test_y)))"
      ],
      "metadata": {
        "colab": {
          "base_uri": "https://localhost:8080/"
        },
        "id": "IlRYp6NdG522",
        "outputId": "0eb13129-aaa5-4f9c-8533-c61f9e3d5609"
      },
      "execution_count": 128,
      "outputs": [
        {
          "output_type": "stream",
          "name": "stdout",
          "text": [
            "학습 데이터 세트 정확도: 0.835\n",
            "시험용 데이터 세트 정확도: 0.796\n"
          ]
        }
      ]
    },
    {
      "cell_type": "code",
      "source": [
        "#나무 깊이 제한\n",
        "gbrt = GradientBoostingClassifier(random_state=0, max_depth=3)\n",
        "gbrt.fit(train_x, train_y)\n",
        "\n",
        "print(\"학습 데이터 세트 정확도: {:.3f}\".format(gbrt.score(train_x, train_y)))\n",
        "print(\"시험용 데이터 세트 정확도: {:.3f}\".format(gbrt.score(test_x, test_y)))"
      ],
      "metadata": {
        "colab": {
          "base_uri": "https://localhost:8080/"
        },
        "id": "jo1HM9E6G-Xw",
        "outputId": "7d3ede36-4007-4d1d-c7ae-4eb9498b6cdb"
      },
      "execution_count": 129,
      "outputs": [
        {
          "output_type": "stream",
          "name": "stdout",
          "text": [
            "학습 데이터 세트 정확도: 0.935\n",
            "시험용 데이터 세트 정확도: 0.812\n"
          ]
        }
      ]
    },
    {
      "cell_type": "markdown",
      "source": [
        "(참고)그리드 서치\n"
      ],
      "metadata": {
        "id": "a6bBmYCDHsVy"
      }
    },
    {
      "cell_type": "code",
      "source": [
        "from sklearn.model_selection import GridSearchCV\n",
        "\n",
        "parameters = {'max_depth':[2,3,4,5,6], 'learning_rate':[0.1,0.08, 0.06, 0.04, 0.02]}"
      ],
      "metadata": {
        "id": "JgZKZl2eHutU"
      },
      "execution_count": 130,
      "outputs": []
    },
    {
      "cell_type": "code",
      "source": [
        "init_gbrt = GradientBoostingClassifier(random_state=0)\n",
        "grid_gbrt = GridSearchCV(init_gbrt, param_grid=parameters, cv=3, refit=True)\n",
        "print(grid_gbrt)\n",
        "\n",
        "grid_gbrt.fit(train_x, train_y)\n",
        "\n",
        "scores_df = pd.DataFrame(grid_gbrt.cv_results_)\n",
        "scores_df[['params', 'mean_test_score', 'rank_test_score', 'split0_test_score', 'split1_test_score', 'split2_test_score']]"
      ],
      "metadata": {
        "colab": {
          "base_uri": "https://localhost:8080/",
          "height": 888
        },
        "id": "le7gn6haHwy7",
        "outputId": "27070e3b-fc3c-42b5-f6ca-ea87a74d94fa"
      },
      "execution_count": 131,
      "outputs": [
        {
          "output_type": "stream",
          "name": "stdout",
          "text": [
            "GridSearchCV(cv=3, estimator=GradientBoostingClassifier(random_state=0),\n",
            "             param_grid={'learning_rate': [0.1, 0.08, 0.06, 0.04, 0.02],\n",
            "                         'max_depth': [2, 3, 4, 5, 6]})\n"
          ]
        },
        {
          "output_type": "execute_result",
          "data": {
            "text/plain": [
              "                                     params  mean_test_score  rank_test_score  \\\n",
              "0    {'learning_rate': 0.1, 'max_depth': 2}         0.811966                4   \n",
              "1    {'learning_rate': 0.1, 'max_depth': 3}         0.801282                8   \n",
              "2    {'learning_rate': 0.1, 'max_depth': 4}         0.791667               16   \n",
              "3    {'learning_rate': 0.1, 'max_depth': 5}         0.801282                8   \n",
              "4    {'learning_rate': 0.1, 'max_depth': 6}         0.801282                7   \n",
              "5   {'learning_rate': 0.08, 'max_depth': 2}         0.808761                5   \n",
              "6   {'learning_rate': 0.08, 'max_depth': 3}         0.800214               11   \n",
              "7   {'learning_rate': 0.08, 'max_depth': 4}         0.797009               14   \n",
              "8   {'learning_rate': 0.08, 'max_depth': 5}         0.787393               21   \n",
              "9   {'learning_rate': 0.08, 'max_depth': 6}         0.789530               19   \n",
              "10  {'learning_rate': 0.06, 'max_depth': 2}         0.815171                2   \n",
              "11  {'learning_rate': 0.06, 'max_depth': 3}         0.801282                8   \n",
              "12  {'learning_rate': 0.06, 'max_depth': 4}         0.794872               15   \n",
              "13  {'learning_rate': 0.06, 'max_depth': 5}         0.791667               16   \n",
              "14  {'learning_rate': 0.06, 'max_depth': 6}         0.786325               22   \n",
              "15  {'learning_rate': 0.04, 'max_depth': 2}         0.815171                2   \n",
              "16  {'learning_rate': 0.04, 'max_depth': 3}         0.805556                6   \n",
              "17  {'learning_rate': 0.04, 'max_depth': 4}         0.791667               16   \n",
              "18  {'learning_rate': 0.04, 'max_depth': 5}         0.782051               24   \n",
              "19  {'learning_rate': 0.04, 'max_depth': 6}         0.785256               23   \n",
              "20  {'learning_rate': 0.02, 'max_depth': 2}         0.816239                1   \n",
              "21  {'learning_rate': 0.02, 'max_depth': 3}         0.798077               12   \n",
              "22  {'learning_rate': 0.02, 'max_depth': 4}         0.798077               12   \n",
              "23  {'learning_rate': 0.02, 'max_depth': 5}         0.788462               20   \n",
              "24  {'learning_rate': 0.02, 'max_depth': 6}         0.778846               25   \n",
              "\n",
              "    split0_test_score  split1_test_score  split2_test_score  \n",
              "0            0.807692           0.833333           0.794872  \n",
              "1            0.798077           0.814103           0.791667  \n",
              "2            0.775641           0.807692           0.791667  \n",
              "3            0.807692           0.814103           0.782051  \n",
              "4            0.788462           0.817308           0.798077  \n",
              "5            0.801282           0.833333           0.791667  \n",
              "6            0.798077           0.823718           0.778846  \n",
              "7            0.794872           0.807692           0.788462  \n",
              "8            0.785256           0.807692           0.769231  \n",
              "9            0.785256           0.798077           0.785256  \n",
              "10           0.801282           0.833333           0.810897  \n",
              "11           0.785256           0.830128           0.788462  \n",
              "12           0.778846           0.820513           0.785256  \n",
              "13           0.778846           0.807692           0.788462  \n",
              "14           0.775641           0.801282           0.782051  \n",
              "15           0.798077           0.839744           0.807692  \n",
              "16           0.798077           0.826923           0.791667  \n",
              "17           0.769231           0.826923           0.778846  \n",
              "18           0.762821           0.810897           0.772436  \n",
              "19           0.772436           0.794872           0.788462  \n",
              "20           0.804487           0.826923           0.817308  \n",
              "21           0.782051           0.817308           0.794872  \n",
              "22           0.782051           0.820513           0.791667  \n",
              "23           0.766026           0.807692           0.791667  \n",
              "24           0.759615           0.775641           0.801282  "
            ],
            "text/html": [
              "\n",
              "  <div id=\"df-c0367f26-54d3-4b81-96c3-dc9d162e5ccc\">\n",
              "    <div class=\"colab-df-container\">\n",
              "      <div>\n",
              "<style scoped>\n",
              "    .dataframe tbody tr th:only-of-type {\n",
              "        vertical-align: middle;\n",
              "    }\n",
              "\n",
              "    .dataframe tbody tr th {\n",
              "        vertical-align: top;\n",
              "    }\n",
              "\n",
              "    .dataframe thead th {\n",
              "        text-align: right;\n",
              "    }\n",
              "</style>\n",
              "<table border=\"1\" class=\"dataframe\">\n",
              "  <thead>\n",
              "    <tr style=\"text-align: right;\">\n",
              "      <th></th>\n",
              "      <th>params</th>\n",
              "      <th>mean_test_score</th>\n",
              "      <th>rank_test_score</th>\n",
              "      <th>split0_test_score</th>\n",
              "      <th>split1_test_score</th>\n",
              "      <th>split2_test_score</th>\n",
              "    </tr>\n",
              "  </thead>\n",
              "  <tbody>\n",
              "    <tr>\n",
              "      <th>0</th>\n",
              "      <td>{'learning_rate': 0.1, 'max_depth': 2}</td>\n",
              "      <td>0.811966</td>\n",
              "      <td>4</td>\n",
              "      <td>0.807692</td>\n",
              "      <td>0.833333</td>\n",
              "      <td>0.794872</td>\n",
              "    </tr>\n",
              "    <tr>\n",
              "      <th>1</th>\n",
              "      <td>{'learning_rate': 0.1, 'max_depth': 3}</td>\n",
              "      <td>0.801282</td>\n",
              "      <td>8</td>\n",
              "      <td>0.798077</td>\n",
              "      <td>0.814103</td>\n",
              "      <td>0.791667</td>\n",
              "    </tr>\n",
              "    <tr>\n",
              "      <th>2</th>\n",
              "      <td>{'learning_rate': 0.1, 'max_depth': 4}</td>\n",
              "      <td>0.791667</td>\n",
              "      <td>16</td>\n",
              "      <td>0.775641</td>\n",
              "      <td>0.807692</td>\n",
              "      <td>0.791667</td>\n",
              "    </tr>\n",
              "    <tr>\n",
              "      <th>3</th>\n",
              "      <td>{'learning_rate': 0.1, 'max_depth': 5}</td>\n",
              "      <td>0.801282</td>\n",
              "      <td>8</td>\n",
              "      <td>0.807692</td>\n",
              "      <td>0.814103</td>\n",
              "      <td>0.782051</td>\n",
              "    </tr>\n",
              "    <tr>\n",
              "      <th>4</th>\n",
              "      <td>{'learning_rate': 0.1, 'max_depth': 6}</td>\n",
              "      <td>0.801282</td>\n",
              "      <td>7</td>\n",
              "      <td>0.788462</td>\n",
              "      <td>0.817308</td>\n",
              "      <td>0.798077</td>\n",
              "    </tr>\n",
              "    <tr>\n",
              "      <th>5</th>\n",
              "      <td>{'learning_rate': 0.08, 'max_depth': 2}</td>\n",
              "      <td>0.808761</td>\n",
              "      <td>5</td>\n",
              "      <td>0.801282</td>\n",
              "      <td>0.833333</td>\n",
              "      <td>0.791667</td>\n",
              "    </tr>\n",
              "    <tr>\n",
              "      <th>6</th>\n",
              "      <td>{'learning_rate': 0.08, 'max_depth': 3}</td>\n",
              "      <td>0.800214</td>\n",
              "      <td>11</td>\n",
              "      <td>0.798077</td>\n",
              "      <td>0.823718</td>\n",
              "      <td>0.778846</td>\n",
              "    </tr>\n",
              "    <tr>\n",
              "      <th>7</th>\n",
              "      <td>{'learning_rate': 0.08, 'max_depth': 4}</td>\n",
              "      <td>0.797009</td>\n",
              "      <td>14</td>\n",
              "      <td>0.794872</td>\n",
              "      <td>0.807692</td>\n",
              "      <td>0.788462</td>\n",
              "    </tr>\n",
              "    <tr>\n",
              "      <th>8</th>\n",
              "      <td>{'learning_rate': 0.08, 'max_depth': 5}</td>\n",
              "      <td>0.787393</td>\n",
              "      <td>21</td>\n",
              "      <td>0.785256</td>\n",
              "      <td>0.807692</td>\n",
              "      <td>0.769231</td>\n",
              "    </tr>\n",
              "    <tr>\n",
              "      <th>9</th>\n",
              "      <td>{'learning_rate': 0.08, 'max_depth': 6}</td>\n",
              "      <td>0.789530</td>\n",
              "      <td>19</td>\n",
              "      <td>0.785256</td>\n",
              "      <td>0.798077</td>\n",
              "      <td>0.785256</td>\n",
              "    </tr>\n",
              "    <tr>\n",
              "      <th>10</th>\n",
              "      <td>{'learning_rate': 0.06, 'max_depth': 2}</td>\n",
              "      <td>0.815171</td>\n",
              "      <td>2</td>\n",
              "      <td>0.801282</td>\n",
              "      <td>0.833333</td>\n",
              "      <td>0.810897</td>\n",
              "    </tr>\n",
              "    <tr>\n",
              "      <th>11</th>\n",
              "      <td>{'learning_rate': 0.06, 'max_depth': 3}</td>\n",
              "      <td>0.801282</td>\n",
              "      <td>8</td>\n",
              "      <td>0.785256</td>\n",
              "      <td>0.830128</td>\n",
              "      <td>0.788462</td>\n",
              "    </tr>\n",
              "    <tr>\n",
              "      <th>12</th>\n",
              "      <td>{'learning_rate': 0.06, 'max_depth': 4}</td>\n",
              "      <td>0.794872</td>\n",
              "      <td>15</td>\n",
              "      <td>0.778846</td>\n",
              "      <td>0.820513</td>\n",
              "      <td>0.785256</td>\n",
              "    </tr>\n",
              "    <tr>\n",
              "      <th>13</th>\n",
              "      <td>{'learning_rate': 0.06, 'max_depth': 5}</td>\n",
              "      <td>0.791667</td>\n",
              "      <td>16</td>\n",
              "      <td>0.778846</td>\n",
              "      <td>0.807692</td>\n",
              "      <td>0.788462</td>\n",
              "    </tr>\n",
              "    <tr>\n",
              "      <th>14</th>\n",
              "      <td>{'learning_rate': 0.06, 'max_depth': 6}</td>\n",
              "      <td>0.786325</td>\n",
              "      <td>22</td>\n",
              "      <td>0.775641</td>\n",
              "      <td>0.801282</td>\n",
              "      <td>0.782051</td>\n",
              "    </tr>\n",
              "    <tr>\n",
              "      <th>15</th>\n",
              "      <td>{'learning_rate': 0.04, 'max_depth': 2}</td>\n",
              "      <td>0.815171</td>\n",
              "      <td>2</td>\n",
              "      <td>0.798077</td>\n",
              "      <td>0.839744</td>\n",
              "      <td>0.807692</td>\n",
              "    </tr>\n",
              "    <tr>\n",
              "      <th>16</th>\n",
              "      <td>{'learning_rate': 0.04, 'max_depth': 3}</td>\n",
              "      <td>0.805556</td>\n",
              "      <td>6</td>\n",
              "      <td>0.798077</td>\n",
              "      <td>0.826923</td>\n",
              "      <td>0.791667</td>\n",
              "    </tr>\n",
              "    <tr>\n",
              "      <th>17</th>\n",
              "      <td>{'learning_rate': 0.04, 'max_depth': 4}</td>\n",
              "      <td>0.791667</td>\n",
              "      <td>16</td>\n",
              "      <td>0.769231</td>\n",
              "      <td>0.826923</td>\n",
              "      <td>0.778846</td>\n",
              "    </tr>\n",
              "    <tr>\n",
              "      <th>18</th>\n",
              "      <td>{'learning_rate': 0.04, 'max_depth': 5}</td>\n",
              "      <td>0.782051</td>\n",
              "      <td>24</td>\n",
              "      <td>0.762821</td>\n",
              "      <td>0.810897</td>\n",
              "      <td>0.772436</td>\n",
              "    </tr>\n",
              "    <tr>\n",
              "      <th>19</th>\n",
              "      <td>{'learning_rate': 0.04, 'max_depth': 6}</td>\n",
              "      <td>0.785256</td>\n",
              "      <td>23</td>\n",
              "      <td>0.772436</td>\n",
              "      <td>0.794872</td>\n",
              "      <td>0.788462</td>\n",
              "    </tr>\n",
              "    <tr>\n",
              "      <th>20</th>\n",
              "      <td>{'learning_rate': 0.02, 'max_depth': 2}</td>\n",
              "      <td>0.816239</td>\n",
              "      <td>1</td>\n",
              "      <td>0.804487</td>\n",
              "      <td>0.826923</td>\n",
              "      <td>0.817308</td>\n",
              "    </tr>\n",
              "    <tr>\n",
              "      <th>21</th>\n",
              "      <td>{'learning_rate': 0.02, 'max_depth': 3}</td>\n",
              "      <td>0.798077</td>\n",
              "      <td>12</td>\n",
              "      <td>0.782051</td>\n",
              "      <td>0.817308</td>\n",
              "      <td>0.794872</td>\n",
              "    </tr>\n",
              "    <tr>\n",
              "      <th>22</th>\n",
              "      <td>{'learning_rate': 0.02, 'max_depth': 4}</td>\n",
              "      <td>0.798077</td>\n",
              "      <td>12</td>\n",
              "      <td>0.782051</td>\n",
              "      <td>0.820513</td>\n",
              "      <td>0.791667</td>\n",
              "    </tr>\n",
              "    <tr>\n",
              "      <th>23</th>\n",
              "      <td>{'learning_rate': 0.02, 'max_depth': 5}</td>\n",
              "      <td>0.788462</td>\n",
              "      <td>20</td>\n",
              "      <td>0.766026</td>\n",
              "      <td>0.807692</td>\n",
              "      <td>0.791667</td>\n",
              "    </tr>\n",
              "    <tr>\n",
              "      <th>24</th>\n",
              "      <td>{'learning_rate': 0.02, 'max_depth': 6}</td>\n",
              "      <td>0.778846</td>\n",
              "      <td>25</td>\n",
              "      <td>0.759615</td>\n",
              "      <td>0.775641</td>\n",
              "      <td>0.801282</td>\n",
              "    </tr>\n",
              "  </tbody>\n",
              "</table>\n",
              "</div>\n",
              "      <button class=\"colab-df-convert\" onclick=\"convertToInteractive('df-c0367f26-54d3-4b81-96c3-dc9d162e5ccc')\"\n",
              "              title=\"Convert this dataframe to an interactive table.\"\n",
              "              style=\"display:none;\">\n",
              "        \n",
              "  <svg xmlns=\"http://www.w3.org/2000/svg\" height=\"24px\"viewBox=\"0 0 24 24\"\n",
              "       width=\"24px\">\n",
              "    <path d=\"M0 0h24v24H0V0z\" fill=\"none\"/>\n",
              "    <path d=\"M18.56 5.44l.94 2.06.94-2.06 2.06-.94-2.06-.94-.94-2.06-.94 2.06-2.06.94zm-11 1L8.5 8.5l.94-2.06 2.06-.94-2.06-.94L8.5 2.5l-.94 2.06-2.06.94zm10 10l.94 2.06.94-2.06 2.06-.94-2.06-.94-.94-2.06-.94 2.06-2.06.94z\"/><path d=\"M17.41 7.96l-1.37-1.37c-.4-.4-.92-.59-1.43-.59-.52 0-1.04.2-1.43.59L10.3 9.45l-7.72 7.72c-.78.78-.78 2.05 0 2.83L4 21.41c.39.39.9.59 1.41.59.51 0 1.02-.2 1.41-.59l7.78-7.78 2.81-2.81c.8-.78.8-2.07 0-2.86zM5.41 20L4 18.59l7.72-7.72 1.47 1.35L5.41 20z\"/>\n",
              "  </svg>\n",
              "      </button>\n",
              "      \n",
              "  <style>\n",
              "    .colab-df-container {\n",
              "      display:flex;\n",
              "      flex-wrap:wrap;\n",
              "      gap: 12px;\n",
              "    }\n",
              "\n",
              "    .colab-df-convert {\n",
              "      background-color: #E8F0FE;\n",
              "      border: none;\n",
              "      border-radius: 50%;\n",
              "      cursor: pointer;\n",
              "      display: none;\n",
              "      fill: #1967D2;\n",
              "      height: 32px;\n",
              "      padding: 0 0 0 0;\n",
              "      width: 32px;\n",
              "    }\n",
              "\n",
              "    .colab-df-convert:hover {\n",
              "      background-color: #E2EBFA;\n",
              "      box-shadow: 0px 1px 2px rgba(60, 64, 67, 0.3), 0px 1px 3px 1px rgba(60, 64, 67, 0.15);\n",
              "      fill: #174EA6;\n",
              "    }\n",
              "\n",
              "    [theme=dark] .colab-df-convert {\n",
              "      background-color: #3B4455;\n",
              "      fill: #D2E3FC;\n",
              "    }\n",
              "\n",
              "    [theme=dark] .colab-df-convert:hover {\n",
              "      background-color: #434B5C;\n",
              "      box-shadow: 0px 1px 3px 1px rgba(0, 0, 0, 0.15);\n",
              "      filter: drop-shadow(0px 1px 2px rgba(0, 0, 0, 0.3));\n",
              "      fill: #FFFFFF;\n",
              "    }\n",
              "  </style>\n",
              "\n",
              "      <script>\n",
              "        const buttonEl =\n",
              "          document.querySelector('#df-c0367f26-54d3-4b81-96c3-dc9d162e5ccc button.colab-df-convert');\n",
              "        buttonEl.style.display =\n",
              "          google.colab.kernel.accessAllowed ? 'block' : 'none';\n",
              "\n",
              "        async function convertToInteractive(key) {\n",
              "          const element = document.querySelector('#df-c0367f26-54d3-4b81-96c3-dc9d162e5ccc');\n",
              "          const dataTable =\n",
              "            await google.colab.kernel.invokeFunction('convertToInteractive',\n",
              "                                                     [key], {});\n",
              "          if (!dataTable) return;\n",
              "\n",
              "          const docLinkHtml = 'Like what you see? Visit the ' +\n",
              "            '<a target=\"_blank\" href=https://colab.research.google.com/notebooks/data_table.ipynb>data table notebook</a>'\n",
              "            + ' to learn more about interactive tables.';\n",
              "          element.innerHTML = '';\n",
              "          dataTable['output_type'] = 'display_data';\n",
              "          await google.colab.output.renderOutput(dataTable, element);\n",
              "          const docLink = document.createElement('div');\n",
              "          docLink.innerHTML = docLinkHtml;\n",
              "          element.appendChild(docLink);\n",
              "        }\n",
              "      </script>\n",
              "    </div>\n",
              "  </div>\n",
              "  "
            ]
          },
          "metadata": {},
          "execution_count": 131
        }
      ]
    },
    {
      "cell_type": "code",
      "source": [
        "print('GridSearchCV 최적 파라미터:', grid_gbrt.best_params_)\n",
        "print('GridSearchCV 최고 정확도: {0:.4f}'.format(grid_gbrt.best_score_))"
      ],
      "metadata": {
        "colab": {
          "base_uri": "https://localhost:8080/"
        },
        "id": "OwgvTPePH7B9",
        "outputId": "c99ec0ec-2fed-441b-9cd0-ef4401ed2298"
      },
      "execution_count": 132,
      "outputs": [
        {
          "output_type": "stream",
          "name": "stdout",
          "text": [
            "GridSearchCV 최적 파라미터: {'learning_rate': 0.02, 'max_depth': 2}\n",
            "GridSearchCV 최고 정확도: 0.8162\n"
          ]
        }
      ]
    },
    {
      "cell_type": "code",
      "source": [
        "#최적의 파라미터 \n",
        "gbrt = GradientBoostingClassifier(random_state=0, max_depth=2,learning_rate=0.02)\n",
        "gbrt.fit(train_x, train_y)\n",
        "\n",
        "print(\"학습 데이터 세트 정확도: {:.3f}\".format(gbrt.score(train_x, train_y)))\n",
        "print(\"시험용 데이터 세트 정확도: {:.3f}\".format(gbrt.score(test_x, test_y)))"
      ],
      "metadata": {
        "colab": {
          "base_uri": "https://localhost:8080/"
        },
        "id": "3m7M1GXaKGfg",
        "outputId": "54493ce9-efa8-440e-806c-d06dd09f92bd"
      },
      "execution_count": 133,
      "outputs": [
        {
          "output_type": "stream",
          "name": "stdout",
          "text": [
            "학습 데이터 세트 정확도: 0.826\n",
            "시험용 데이터 세트 정확도: 0.818\n"
          ]
        }
      ]
    },
    {
      "cell_type": "code",
      "source": [
        "plot_feature_importances_health(gbrt)"
      ],
      "metadata": {
        "colab": {
          "base_uri": "https://localhost:8080/",
          "height": 388
        },
        "id": "nRiVIpn3HAZL",
        "outputId": "95e4c241-cb13-409c-a396-fb9d38de8c98"
      },
      "execution_count": 134,
      "outputs": [
        {
          "output_type": "display_data",
          "data": {
            "text/plain": [
              "<Figure size 648x432 with 1 Axes>"
            ],
            "image/png": "[encoded data removed]"
          },
          "metadata": {
            "needs_background": "light"
          }
        }
      ]
    },
    {
      "cell_type": "markdown",
      "source": [
        "그래디언트 부스팅에 따르면 비만 예측에 가장 중요한 변수는 허리둘레이다."
      ],
      "metadata": {
        "id": "hCvoNFG3HFD4"
      }
    },
    {
      "cell_type": "markdown",
      "source": [
        "#분류 모델 평가"
      ],
      "metadata": {
        "id": "S6b1mjLVHFvd"
      }
    },
    {
      "cell_type": "markdown",
      "source": [
        "##교차검증"
      ],
      "metadata": {
        "id": "JZomTB1YHH-_"
      }
    },
    {
      "cell_type": "code",
      "source": [
        "from sklearn.model_selection import cross_val_score\n",
        "from sklearn.model_selection import StratifiedKFold\n",
        "kf = StratifiedKFold(n_splits=10, shuffle =True, random_state=0)\n",
        "\n",
        "dt_scores = cross_val_score(tree, train_x, train_y, cv=kf, scoring='accuracy') \n",
        "rf_scores = cross_val_score(forest, train_x, train_y, cv=kf, scoring='accuracy')\n",
        "gbrt_scores = cross_val_score(gbrt, train_x, train_y, cv=kf, scoring='accuracy')\n",
        "\n",
        "print(\"Accuracy\")\n",
        "print(\"Decision tree: \", dt_scores) \n",
        "print(\"Random forest: \", rf_scores) \n",
        "print(\"Gradient boosting: \", gbrt_scores) \n",
        "\n",
        "print(\"Accuracy mean\")\n",
        "print(\"Decision tree :{:.3f}\".format(dt_scores.mean())) \n",
        "print(\"Random forest :{:.3f}\".format(rf_scores.mean())) \n",
        "print(\"Gradient boosting :{:.3f}\".format(gbrt_scores.mean()))"
      ],
      "metadata": {
        "colab": {
          "base_uri": "https://localhost:8080/"
        },
        "id": "ZQPww0PDUM6w",
        "outputId": "ecce3a8b-3646-49ea-bbcd-470e32586381"
      },
      "execution_count": 135,
      "outputs": [
        {
          "output_type": "stream",
          "name": "stdout",
          "text": [
            "Accuracy\n",
            "Decision tree:  [0.78723404 0.80851064 0.69148936 0.79787234 0.70212766 0.87234043\n",
            " 0.79569892 0.78494624 0.8172043  0.72043011]\n",
            "Random forest:  [0.77659574 0.86170213 0.72340426 0.79787234 0.71276596 0.90425532\n",
            " 0.80645161 0.8172043  0.88172043 0.74193548]\n",
            "Gradient boosting:  [0.82978723 0.81914894 0.74468085 0.82978723 0.71276596 0.89361702\n",
            " 0.8172043  0.83870968 0.87096774 0.77419355]\n",
            "Accuracy mean\n",
            "Decision tree :0.778\n",
            "Random forest :0.802\n",
            "Gradient boosting :0.813\n"
          ]
        }
      ]
    },
    {
      "cell_type": "code",
      "source": [
        "cv_list = [    \n",
        "            ['decision_tree',dt_scores],\n",
        "            ['random_forest',rf_scores],\n",
        "            ['gbrt',gbrt_scores]\n",
        "          ]\n",
        "df = pd.DataFrame.from_dict(dict(cv_list))\n",
        "df.plot()"
      ],
      "metadata": {
        "colab": {
          "base_uri": "https://localhost:8080/",
          "height": 392
        },
        "id": "B5RJ_atFHMU5",
        "outputId": "20bbd2ab-5191-44b7-f93d-6d5fb5a7f0d7"
      },
      "execution_count": 136,
      "outputs": [
        {
          "output_type": "execute_result",
          "data": {
            "text/plain": [
              "<matplotlib.axes._subplots.AxesSubplot at 0x7f48b98d6ed0>"
            ]
          },
          "metadata": {},
          "execution_count": 136
        },
        {
          "output_type": "display_data",
          "data": {
            "text/plain": [
              "<Figure size 648x432 with 1 Axes>"
            ],
            "image/png": "[encoded data removed]"
          },
          "metadata": {
            "needs_background": "light"
          }
        }
      ]
    },
    {
      "cell_type": "markdown",
      "source": [
        "세 모델을 교차 검증한 결과, 평균 정확도은 의사결정나무 0.778, 랜덤포레스트 0.802, 그래디언트 부스팅 0.813으로 평균 정확도는 그래디언트 부스팅이 가장 높다. \n",
        "\n"
      ],
      "metadata": {
        "id": "BDJShnpFH2Lw"
      }
    },
    {
      "cell_type": "markdown",
      "source": [
        "##모델 평가 지표"
      ],
      "metadata": {
        "id": "rFveZFTsH_5L"
      }
    },
    {
      "cell_type": "code",
      "source": [
        "from sklearn.metrics import accuracy_score, precision_score, recall_score, f1_score\n",
        "from sklearn.metrics import confusion_matrix \n",
        "\n",
        "print(test_y.value_counts())\n",
        "\n",
        "dt_pred = tree.predict(test_x)\n",
        "rf_pred = forest.predict(test_x)\n",
        "grid_gbrt_pred = grid_gbrt.predict(test_x)\n",
        "\n",
        "# 예측 결과인 pred와 실제 결과인 y_test의 Confusion Matrix 출력\n",
        "print('Decision tree 시험용 데이터 세트 정확도:{:.3f}'.format(accuracy_score(test_y, dt_pred)))\n",
        "print(confusion_matrix(test_y, dt_pred))\n",
        "print('Random forest 시험용 데이터 세트 정확도:{:.3f}'.format(accuracy_score(test_y, rf_pred)))\n",
        "print(confusion_matrix(test_y, rf_pred))\n",
        "print('Gradient boosting 시험용 데이터 세트 정확도:{:.3f}'.format(accuracy_score(test_y, grid_gbrt_pred)))\n",
        "print(confusion_matrix(test_y, grid_gbrt_pred))"
      ],
      "metadata": {
        "colab": {
          "base_uri": "https://localhost:8080/"
        },
        "id": "sh3_uvHSICJr",
        "outputId": "c70ba11c-513f-46b4-bc88-e45c0a88ce6b"
      },
      "execution_count": 137,
      "outputs": [
        {
          "output_type": "stream",
          "name": "stdout",
          "text": [
            "N    194\n",
            "Y    119\n",
            "Name: obesity, dtype: int64\n",
            "Decision tree 시험용 데이터 세트 정확도:0.812\n",
            "[[168  26]\n",
            " [ 33  86]]\n",
            "Random forest 시험용 데이터 세트 정확도:0.796\n",
            "[[170  24]\n",
            " [ 40  79]]\n",
            "Gradient boosting 시험용 데이터 세트 정확도:0.818\n",
            "[[172  22]\n",
            " [ 35  84]]\n"
          ]
        }
      ]
    },
    {
      "cell_type": "code",
      "source": [
        "mglearn.plots.plot_binary_confusion_matrix()  #비만 = positive"
      ],
      "metadata": {
        "colab": {
          "base_uri": "https://localhost:8080/",
          "height": 379
        },
        "id": "m25vs1kAIFV-",
        "outputId": "d50fa1a6-0156-483b-9820-0555d1bbfaf9"
      },
      "execution_count": 138,
      "outputs": [
        {
          "output_type": "display_data",
          "data": {
            "text/plain": [
              "<Figure size 648x432 with 1 Axes>"
            ],
            "image/png": "[encoded data removed]"
          },
          "metadata": {
            "needs_background": "light"
          }
        }
      ]
    },
    {
      "cell_type": "code",
      "source": [
        "#의사결정나무\n",
        "print('정밀도:{:.3f}'.format(precision_score (test_y, dt_pred, average='binary', pos_label=\"Y\")))  # pos_label = 1 기본값\n",
        "print('재현율:{:.3f}'.format(recall_score(test_y, dt_pred, average='binary', pos_label=\"Y\")))\n",
        "print('f1-measure:{:.3f}'.format(f1_score(test_y, dt_pred, average='binary', pos_label=\"Y\")))"
      ],
      "metadata": {
        "colab": {
          "base_uri": "https://localhost:8080/"
        },
        "id": "4Yd8Bo93LP2W",
        "outputId": "07fc10c0-da7c-4391-9dd5-349907956277"
      },
      "execution_count": 139,
      "outputs": [
        {
          "output_type": "stream",
          "name": "stdout",
          "text": [
            "정밀도:0.768\n",
            "재현율:0.723\n",
            "f1-measure:0.745\n"
          ]
        }
      ]
    },
    {
      "cell_type": "code",
      "source": [
        "#랜덤포레스트\n",
        "print('정밀도:{:.3f}'.format(precision_score (test_y, rf_pred, average='binary', pos_label=\"Y\")))  # pos_label = 1 기본값\n",
        "print('재현율:{:.3f}'.format(recall_score(test_y, rf_pred, average='binary', pos_label=\"Y\")))\n",
        "print('f1-measure:{:.3f}'.format(f1_score(test_y, rf_pred, average='binary', pos_label=\"Y\")))"
      ],
      "metadata": {
        "colab": {
          "base_uri": "https://localhost:8080/"
        },
        "id": "VntFVszZLPSw",
        "outputId": "af70f3a5-6e0e-4fb0-f218-d631df371f31"
      },
      "execution_count": 140,
      "outputs": [
        {
          "output_type": "stream",
          "name": "stdout",
          "text": [
            "정밀도:0.767\n",
            "재현율:0.664\n",
            "f1-measure:0.712\n"
          ]
        }
      ]
    },
    {
      "cell_type": "code",
      "source": [
        "#그래디언트 부스팅\n",
        "print('정밀도:{:.3f}'.format(precision_score (test_y, grid_gbrt_pred, average='binary', pos_label=\"Y\")))  # pos_label = 1 기본값\n",
        "print('재현율:{:.3f}'.format(recall_score(test_y, grid_gbrt_pred, average='binary', pos_label=\"Y\")))\n",
        "print('f1-measure:{:.3f}'.format(f1_score(test_y, grid_gbrt_pred, average='binary', pos_label=\"Y\")))"
      ],
      "metadata": {
        "colab": {
          "base_uri": "https://localhost:8080/"
        },
        "id": "S_IDt-XuIHbL",
        "outputId": "e6422154-d09a-4424-cce7-1004bd3bb912"
      },
      "execution_count": 141,
      "outputs": [
        {
          "output_type": "stream",
          "name": "stdout",
          "text": [
            "정밀도:0.792\n",
            "재현율:0.706\n",
            "f1-measure:0.747\n"
          ]
        }
      ]
    },
    {
      "cell_type": "code",
      "source": [
        "from sklearn.metrics import classification_report\n",
        "\n",
        "# 각 클래스가 Positive일 때의 정밀도, 재현율, f1 값을 보여줌\n",
        "print(\"Decision Tree:\")\n",
        "print(classification_report(test_y, dt_pred, target_names=[\"N\", \"Y\"]))\n",
        "print(\"Random Forest:\")\n",
        "print(classification_report(test_y, rf_pred, target_names=[\"N\", \"Y\"]))\n",
        "print(\"Gradient Boosting:\")\n",
        "print(classification_report(test_y, grid_gbrt_pred, target_names=[\"N\", \"Y\"]))"
      ],
      "metadata": {
        "colab": {
          "base_uri": "https://localhost:8080/"
        },
        "id": "q4gck1A-L1yb",
        "outputId": "5b1f925b-6ade-4c69-ec65-084419e9d1f0"
      },
      "execution_count": 142,
      "outputs": [
        {
          "output_type": "stream",
          "name": "stdout",
          "text": [
            "Decision Tree:\n",
            "              precision    recall  f1-score   support\n",
            "\n",
            "           N       0.84      0.87      0.85       194\n",
            "           Y       0.77      0.72      0.74       119\n",
            "\n",
            "    accuracy                           0.81       313\n",
            "   macro avg       0.80      0.79      0.80       313\n",
            "weighted avg       0.81      0.81      0.81       313\n",
            "\n",
            "Random Forest:\n",
            "              precision    recall  f1-score   support\n",
            "\n",
            "           N       0.81      0.88      0.84       194\n",
            "           Y       0.77      0.66      0.71       119\n",
            "\n",
            "    accuracy                           0.80       313\n",
            "   macro avg       0.79      0.77      0.78       313\n",
            "weighted avg       0.79      0.80      0.79       313\n",
            "\n",
            "Gradient Boosting:\n",
            "              precision    recall  f1-score   support\n",
            "\n",
            "           N       0.83      0.89      0.86       194\n",
            "           Y       0.79      0.71      0.75       119\n",
            "\n",
            "    accuracy                           0.82       313\n",
            "   macro avg       0.81      0.80      0.80       313\n",
            "weighted avg       0.82      0.82      0.82       313\n",
            "\n"
          ]
        }
      ]
    },
    {
      "cell_type": "markdown",
      "source": [
        "[비만 예측 모델]\n",
        "\n",
        "\n",
        "비만을 예측하기 위해 의사결정나무, 랜덤 포레스트, 그래디언트 부스팅과 같은 모델을 사용 분류해본 결과, 비만의 여부를 결정하기 위해 가장 중요한 변수는 허리 둘레이다. \n",
        "\n",
        "세 모델 중 그래디언트 부스팅 모델이 가장 예측의 정확도(82%)가 높았다. \n",
        "\n",
        "비만이란 질병은 사후 관리보다는 사전 예방이 더 중요한 질병이다. 즉, 예측해서 맞춘 비율인 정밀도가 실제 데이터에서 찾아내는 비율인 재현율보다 중요하다.  \n",
        " 따라서 다른 모델과 비교해봤을 때 정확도가 가장 높고 정밀도가 높은 그래디언트 부스팅이 가장 적합한 모델이라고 할 수 있다.\n"
      ],
      "metadata": {
        "id": "CrbqYp1KOhTM"
      }
    }
  ]
}